{
 "cells": [
  {
   "cell_type": "code",
   "execution_count": 4,
   "metadata": {},
   "outputs": [],
   "source": [
    "import os\n",
    "import numpy as np\n",
    "from scipy import stats\n",
    "import pandas as pd\n",
    "import matplotlib.pyplot as plt\n",
    "%matplotlib inline\n",
    "import seaborn as sns\n",
    "import warnings\n",
    "warnings.filterwarnings(\"ignore\")"
   ]
  },
  {
   "cell_type": "code",
   "execution_count": null,
   "metadata": {},
   "outputs": [],
   "source": [
    "#Data collection and preprossesing \n",
    "data0 = pd.read_excel(\"Dataset/data0.xlsx\")\n",
    "data1 = pd.read_excel(\"Dataset/data1.xlsx\")\n",
    "data2 = pd.read_excel(\"Dataset/data2.xlsx\")\n",
    "data3 = pd.read_excel(\"Dataset/data3.xlsx\")\n",
    "data4 = pd.read_excel(\"Dataset/data4.xlsx\")\n",
    "data5 = pd.read_excel(\"Dataset/data5.xlsx\")\n",
    "data6 = pd.read_excel(\"Dataset/data6.xlsx\")\n",
    "data7 = pd.read_excel(\"Dataset/data7.xlsx\")"
   ]
  },
  {
   "cell_type": "code",
   "execution_count": 3,
   "metadata": {},
   "outputs": [
    {
     "data": {
      "text/html": [
       "<div>\n",
       "<style scoped>\n",
       "    .dataframe tbody tr th:only-of-type {\n",
       "        vertical-align: middle;\n",
       "    }\n",
       "\n",
       "    .dataframe tbody tr th {\n",
       "        vertical-align: top;\n",
       "    }\n",
       "\n",
       "    .dataframe thead th {\n",
       "        text-align: right;\n",
       "    }\n",
       "</style>\n",
       "<table border=\"1\" class=\"dataframe\">\n",
       "  <thead>\n",
       "    <tr style=\"text-align: right;\">\n",
       "      <th></th>\n",
       "      <th>year</th>\n",
       "      <th>women's age</th>\n",
       "      <th>men's age</th>\n",
       "      <th>family type</th>\n",
       "      <th>area</th>\n",
       "      <th>girl's job</th>\n",
       "      <th>boy's job</th>\n",
       "      <th>marry condition</th>\n",
       "      <th>women married/unmarried</th>\n",
       "      <th>mohor</th>\n",
       "      <th>dowry</th>\n",
       "    </tr>\n",
       "  </thead>\n",
       "  <tbody>\n",
       "    <tr>\n",
       "      <th>0</th>\n",
       "      <td>2013</td>\n",
       "      <td>19</td>\n",
       "      <td>30</td>\n",
       "      <td>rich class</td>\n",
       "      <td>chuadanga</td>\n",
       "      <td>day Labour</td>\n",
       "      <td>businessman</td>\n",
       "      <td>Forced Marriage</td>\n",
       "      <td>Single</td>\n",
       "      <td>387000</td>\n",
       "      <td>Furniture</td>\n",
       "    </tr>\n",
       "    <tr>\n",
       "      <th>1</th>\n",
       "      <td>2014</td>\n",
       "      <td>22</td>\n",
       "      <td>40</td>\n",
       "      <td>rich class</td>\n",
       "      <td>Jashore</td>\n",
       "      <td>businessman</td>\n",
       "      <td>businessman</td>\n",
       "      <td>Irrelevant Marriage</td>\n",
       "      <td>Single</td>\n",
       "      <td>391500</td>\n",
       "      <td>Land</td>\n",
       "    </tr>\n",
       "    <tr>\n",
       "      <th>2</th>\n",
       "      <td>2013</td>\n",
       "      <td>16</td>\n",
       "      <td>25</td>\n",
       "      <td>rich class</td>\n",
       "      <td>Jhenaidah</td>\n",
       "      <td>day Labour</td>\n",
       "      <td>Service holder</td>\n",
       "      <td>Forced Marriage</td>\n",
       "      <td>Single</td>\n",
       "      <td>364500</td>\n",
       "      <td>car</td>\n",
       "    </tr>\n",
       "    <tr>\n",
       "      <th>3</th>\n",
       "      <td>2014</td>\n",
       "      <td>22</td>\n",
       "      <td>34</td>\n",
       "      <td>higher class</td>\n",
       "      <td>Khulna</td>\n",
       "      <td>businessman</td>\n",
       "      <td>businessman</td>\n",
       "      <td>arrange Marriage</td>\n",
       "      <td>Single</td>\n",
       "      <td>214200</td>\n",
       "      <td>456000</td>\n",
       "    </tr>\n",
       "    <tr>\n",
       "      <th>4</th>\n",
       "      <td>2017</td>\n",
       "      <td>18</td>\n",
       "      <td>29</td>\n",
       "      <td>rich class</td>\n",
       "      <td>bagerhat</td>\n",
       "      <td>businessman</td>\n",
       "      <td>Service holder</td>\n",
       "      <td>Forced Marriage</td>\n",
       "      <td>Single</td>\n",
       "      <td>423000</td>\n",
       "      <td>home</td>\n",
       "    </tr>\n",
       "  </tbody>\n",
       "</table>\n",
       "</div>"
      ],
      "text/plain": [
       "   year  women's age  men's age   family type        area   girl's job  \\\n",
       "0  2013           19         30    rich class  chuadanga    day Labour   \n",
       "1  2014           22         40    rich class    Jashore   businessman   \n",
       "2  2013           16         25    rich class  Jhenaidah    day Labour   \n",
       "3  2014           22         34  higher class     Khulna   businessman   \n",
       "4  2017           18         29    rich class   bagerhat   businessman   \n",
       "\n",
       "        boy's job      marry condition women married/unmarried   mohor  \\\n",
       "0     businessman      Forced Marriage                  Single  387000   \n",
       "1     businessman  Irrelevant Marriage                  Single  391500   \n",
       "2  Service holder      Forced Marriage                  Single  364500   \n",
       "3     businessman     arrange Marriage                  Single  214200   \n",
       "4  Service holder      Forced Marriage                  Single  423000   \n",
       "\n",
       "       dowry  \n",
       "0  Furniture  \n",
       "1       Land  \n",
       "2        car  \n",
       "3     456000  \n",
       "4       home  "
      ]
     },
     "execution_count": 3,
     "metadata": {},
     "output_type": "execute_result"
    }
   ],
   "source": [
    "data0.head()"
   ]
  },
  {
   "cell_type": "code",
   "execution_count": 4,
   "metadata": {},
   "outputs": [],
   "source": [
    "#create a function to get all columns from each xlsx file.\n",
    "def get_column_names(file_path):\n",
    "    \"\"\"Helper function to read column names from an Excel file.\"\"\"\n",
    "    try:\n",
    "        df = pd.read_excel(file_path, nrows=0)  # Read only the header (column names)\n",
    "        return df.columns.tolist()\n",
    "    except Exception as e:\n",
    "        print(f\"Error reading {file_path}: {e}\")\n",
    "        return None"
   ]
  },
  {
   "cell_type": "code",
   "execution_count": 5,
   "metadata": {},
   "outputs": [],
   "source": [
    "#create a function to compare all columns from each xlsx file.\n",
    "def check_xlsx_columns(directory):\n",
    "    \"\"\"Function to compare column names of all xlsx files in the given directory.\"\"\"\n",
    "    column_names = None\n",
    "    first_file = None\n",
    "    \n",
    "    # Loop through all files in the directory\n",
    "    for file in os.listdir(directory):\n",
    "        if file.endswith(\".xlsx\"):\n",
    "            file_path = os.path.join(directory, file)\n",
    "            current_columns = get_column_names(file_path)\n",
    "            \n",
    "            if current_columns is None:\n",
    "                return False  # If there was an error reading the file\n",
    "            \n",
    "            # If this is the first file, set the column names\n",
    "            if column_names is None:\n",
    "                column_names = current_columns\n",
    "                first_file = file\n",
    "            else:\n",
    "                # Compare the current file's columns to the first file's columns\n",
    "                if column_names != current_columns:\n",
    "                    print(f\"Column mismatch between {first_file} and {file}\")\n",
    "                    return False\n",
    "    \n",
    "    return True"
   ]
  },
  {
   "cell_type": "code",
   "execution_count": 6,
   "metadata": {},
   "outputs": [
    {
     "name": "stdout",
     "output_type": "stream",
     "text": [
      "All files have identical column names.\n"
     ]
    }
   ],
   "source": [
    "directory = r\"D:\\\\ML projects\\\\Dowry-Data-Bangladesh\\\\Dataset\\\\\"\n",
    "result = check_xlsx_columns(directory)\n",
    "if result:\n",
    "    print(\"All files have identical column names.\")\n",
    "else:\n",
    "    print(\"Files have different column names.\")"
   ]
  },
  {
   "cell_type": "code",
   "execution_count": 7,
   "metadata": {},
   "outputs": [],
   "source": [
    "def concat_xlsx_files(directory, output_file):\n",
    "    \"\"\"Function to concatenate all xlsx files in a directory into one file.\"\"\"\n",
    "    dfs = []\n",
    "    \n",
    "    # Loop through all files in the directory\n",
    "    for file in os.listdir(directory):\n",
    "        if file.endswith(\".xlsx\"):\n",
    "            file_path = os.path.join(directory, file)\n",
    "            \n",
    "            try:\n",
    "                # Read the Excel file into a DataFrame\n",
    "                df = pd.read_excel(file_path)\n",
    "                dfs.append(df)\n",
    "                print(f\"Loaded {file} successfully.\")\n",
    "            except Exception as e:\n",
    "                print(f\"Error reading {file_path}: {e}\")\n",
    "                return False\n",
    "\n",
    "    # Concatenate all DataFrames\n",
    "    if dfs:\n",
    "        final_df = pd.concat(dfs, ignore_index=True)\n",
    "        \n",
    "        # Save the concatenated DataFrame to an Excel file\n",
    "        try:\n",
    "            final_df.to_excel(output_file, index=False)\n",
    "            print(f\"Successfully saved concatenated file to {output_file}.\")\n",
    "            return True\n",
    "        except Exception as e:\n",
    "            print(f\"Error saving to {output_file}: {e}\")\n",
    "            return False\n",
    "    else:\n",
    "        print(\"No data to concatenate.\")\n",
    "        return False"
   ]
  },
  {
   "cell_type": "code",
   "execution_count": null,
   "metadata": {},
   "outputs": [],
   "source": [
    "output_file = \"Dowry-Data-Bangladesh.xlsx\"\n",
    "concat_xlsx_files(directory, output_file)"
   ]
  },
  {
   "cell_type": "code",
   "execution_count": 254,
   "metadata": {},
   "outputs": [],
   "source": [
    "data = pd.read_excel(\"Dowry-Data-Bangladesh.xlsx\")"
   ]
  },
  {
   "cell_type": "code",
   "execution_count": 255,
   "metadata": {},
   "outputs": [
    {
     "data": {
      "text/html": [
       "<div>\n",
       "<style scoped>\n",
       "    .dataframe tbody tr th:only-of-type {\n",
       "        vertical-align: middle;\n",
       "    }\n",
       "\n",
       "    .dataframe tbody tr th {\n",
       "        vertical-align: top;\n",
       "    }\n",
       "\n",
       "    .dataframe thead th {\n",
       "        text-align: right;\n",
       "    }\n",
       "</style>\n",
       "<table border=\"1\" class=\"dataframe\">\n",
       "  <thead>\n",
       "    <tr style=\"text-align: right;\">\n",
       "      <th></th>\n",
       "      <th>year</th>\n",
       "      <th>women's age</th>\n",
       "      <th>men's age</th>\n",
       "      <th>family type</th>\n",
       "      <th>area</th>\n",
       "      <th>girl's job</th>\n",
       "      <th>boy's job</th>\n",
       "      <th>marry condition</th>\n",
       "      <th>women married/unmarried</th>\n",
       "      <th>mohor</th>\n",
       "      <th>dowry</th>\n",
       "    </tr>\n",
       "  </thead>\n",
       "  <tbody>\n",
       "    <tr>\n",
       "      <th>0</th>\n",
       "      <td>2013</td>\n",
       "      <td>19</td>\n",
       "      <td>30</td>\n",
       "      <td>rich class</td>\n",
       "      <td>chuadanga</td>\n",
       "      <td>day labour</td>\n",
       "      <td>businessman</td>\n",
       "      <td>forced marriage</td>\n",
       "      <td>single</td>\n",
       "      <td>387000</td>\n",
       "      <td>furniture</td>\n",
       "    </tr>\n",
       "    <tr>\n",
       "      <th>1</th>\n",
       "      <td>2014</td>\n",
       "      <td>22</td>\n",
       "      <td>40</td>\n",
       "      <td>rich class</td>\n",
       "      <td>Jashore</td>\n",
       "      <td>businessman</td>\n",
       "      <td>businessman</td>\n",
       "      <td>irrelevant marriage</td>\n",
       "      <td>single</td>\n",
       "      <td>391500</td>\n",
       "      <td>land</td>\n",
       "    </tr>\n",
       "    <tr>\n",
       "      <th>2</th>\n",
       "      <td>2013</td>\n",
       "      <td>16</td>\n",
       "      <td>25</td>\n",
       "      <td>rich class</td>\n",
       "      <td>Jhenaidah</td>\n",
       "      <td>day labour</td>\n",
       "      <td>service holder</td>\n",
       "      <td>forced marriage</td>\n",
       "      <td>single</td>\n",
       "      <td>364500</td>\n",
       "      <td>car</td>\n",
       "    </tr>\n",
       "    <tr>\n",
       "      <th>3</th>\n",
       "      <td>2014</td>\n",
       "      <td>22</td>\n",
       "      <td>34</td>\n",
       "      <td>higher class</td>\n",
       "      <td>Khulna</td>\n",
       "      <td>businessman</td>\n",
       "      <td>businessman</td>\n",
       "      <td>arrange marriage</td>\n",
       "      <td>single</td>\n",
       "      <td>214200</td>\n",
       "      <td>456000</td>\n",
       "    </tr>\n",
       "    <tr>\n",
       "      <th>4</th>\n",
       "      <td>2017</td>\n",
       "      <td>18</td>\n",
       "      <td>29</td>\n",
       "      <td>rich class</td>\n",
       "      <td>bagerhat</td>\n",
       "      <td>businessman</td>\n",
       "      <td>service holder</td>\n",
       "      <td>forced marriage</td>\n",
       "      <td>single</td>\n",
       "      <td>423000</td>\n",
       "      <td>home</td>\n",
       "    </tr>\n",
       "  </tbody>\n",
       "</table>\n",
       "</div>"
      ],
      "text/plain": [
       "   year  women's age  men's age  ... women married/unmarried   mohor      dowry\n",
       "0  2013           19         30  ...                  single  387000  furniture\n",
       "1  2014           22         40  ...                  single  391500       land\n",
       "2  2013           16         25  ...                  single  364500        car\n",
       "3  2014           22         34  ...                  single  214200     456000\n",
       "4  2017           18         29  ...                  single  423000       home\n",
       "\n",
       "[5 rows x 11 columns]"
      ]
     },
     "execution_count": 255,
     "metadata": {},
     "output_type": "execute_result"
    }
   ],
   "source": [
    "data.head()"
   ]
  },
  {
   "cell_type": "code",
   "execution_count": 256,
   "metadata": {},
   "outputs": [
    {
     "data": {
      "text/plain": [
       "(2433, 11)"
      ]
     },
     "execution_count": 256,
     "metadata": {},
     "output_type": "execute_result"
    }
   ],
   "source": [
    "data.shape"
   ]
  },
  {
   "cell_type": "code",
   "execution_count": 257,
   "metadata": {},
   "outputs": [],
   "source": [
    "data.sort_values(by=\"year\",inplace=True,ignore_index=True)"
   ]
  },
  {
   "cell_type": "code",
   "execution_count": 258,
   "metadata": {},
   "outputs": [
    {
     "data": {
      "text/html": [
       "<div>\n",
       "<style scoped>\n",
       "    .dataframe tbody tr th:only-of-type {\n",
       "        vertical-align: middle;\n",
       "    }\n",
       "\n",
       "    .dataframe tbody tr th {\n",
       "        vertical-align: top;\n",
       "    }\n",
       "\n",
       "    .dataframe thead th {\n",
       "        text-align: right;\n",
       "    }\n",
       "</style>\n",
       "<table border=\"1\" class=\"dataframe\">\n",
       "  <thead>\n",
       "    <tr style=\"text-align: right;\">\n",
       "      <th></th>\n",
       "      <th>year</th>\n",
       "      <th>women's age</th>\n",
       "      <th>men's age</th>\n",
       "      <th>family type</th>\n",
       "      <th>area</th>\n",
       "      <th>girl's job</th>\n",
       "      <th>boy's job</th>\n",
       "      <th>marry condition</th>\n",
       "      <th>women married/unmarried</th>\n",
       "      <th>mohor</th>\n",
       "      <th>dowry</th>\n",
       "    </tr>\n",
       "  </thead>\n",
       "  <tbody>\n",
       "    <tr>\n",
       "      <th>0</th>\n",
       "      <td>2013</td>\n",
       "      <td>20</td>\n",
       "      <td>25</td>\n",
       "      <td>rich class</td>\n",
       "      <td>sylhet</td>\n",
       "      <td>businessman</td>\n",
       "      <td>businessman</td>\n",
       "      <td>forced marriage</td>\n",
       "      <td>single</td>\n",
       "      <td>405000</td>\n",
       "      <td>aurnaments</td>\n",
       "    </tr>\n",
       "    <tr>\n",
       "      <th>1</th>\n",
       "      <td>2013</td>\n",
       "      <td>18</td>\n",
       "      <td>38</td>\n",
       "      <td>lower middle class</td>\n",
       "      <td>habiganj</td>\n",
       "      <td>entrepreneur</td>\n",
       "      <td>businessman</td>\n",
       "      <td>irrelevant marriage</td>\n",
       "      <td>single</td>\n",
       "      <td>155400</td>\n",
       "      <td>354600</td>\n",
       "    </tr>\n",
       "    <tr>\n",
       "      <th>2</th>\n",
       "      <td>2013</td>\n",
       "      <td>22</td>\n",
       "      <td>37</td>\n",
       "      <td>rich class</td>\n",
       "      <td>mymensingh</td>\n",
       "      <td>businessman</td>\n",
       "      <td>businessman</td>\n",
       "      <td>irrelevant marriage</td>\n",
       "      <td>single</td>\n",
       "      <td>378000</td>\n",
       "      <td>aurnaments</td>\n",
       "    </tr>\n",
       "    <tr>\n",
       "      <th>3</th>\n",
       "      <td>2013</td>\n",
       "      <td>19</td>\n",
       "      <td>39</td>\n",
       "      <td>lower middle class</td>\n",
       "      <td>mymensingh</td>\n",
       "      <td>businessman</td>\n",
       "      <td>businessman</td>\n",
       "      <td>irrelevant marriage</td>\n",
       "      <td>single</td>\n",
       "      <td>155400</td>\n",
       "      <td>445800</td>\n",
       "    </tr>\n",
       "    <tr>\n",
       "      <th>4</th>\n",
       "      <td>2013</td>\n",
       "      <td>23</td>\n",
       "      <td>31</td>\n",
       "      <td>proverty level</td>\n",
       "      <td>Netrokona</td>\n",
       "      <td>garments worker</td>\n",
       "      <td>driver</td>\n",
       "      <td>arrange marriage</td>\n",
       "      <td>single</td>\n",
       "      <td>44000</td>\n",
       "      <td>410800</td>\n",
       "    </tr>\n",
       "  </tbody>\n",
       "</table>\n",
       "</div>"
      ],
      "text/plain": [
       "   year  women's age  men's age  ... women married/unmarried   mohor       dowry\n",
       "0  2013           20         25  ...                  single  405000  aurnaments\n",
       "1  2013           18         38  ...                  single  155400      354600\n",
       "2  2013           22         37  ...                  single  378000  aurnaments\n",
       "3  2013           19         39  ...                  single  155400      445800\n",
       "4  2013           23         31  ...                  single   44000      410800\n",
       "\n",
       "[5 rows x 11 columns]"
      ]
     },
     "execution_count": 258,
     "metadata": {},
     "output_type": "execute_result"
    }
   ],
   "source": [
    "data.head()"
   ]
  },
  {
   "cell_type": "code",
   "execution_count": 259,
   "metadata": {},
   "outputs": [
    {
     "data": {
      "text/html": [
       "<div>\n",
       "<style scoped>\n",
       "    .dataframe tbody tr th:only-of-type {\n",
       "        vertical-align: middle;\n",
       "    }\n",
       "\n",
       "    .dataframe tbody tr th {\n",
       "        vertical-align: top;\n",
       "    }\n",
       "\n",
       "    .dataframe thead th {\n",
       "        text-align: right;\n",
       "    }\n",
       "</style>\n",
       "<table border=\"1\" class=\"dataframe\">\n",
       "  <thead>\n",
       "    <tr style=\"text-align: right;\">\n",
       "      <th></th>\n",
       "      <th>year</th>\n",
       "      <th>women's age</th>\n",
       "      <th>men's age</th>\n",
       "      <th>family type</th>\n",
       "      <th>area</th>\n",
       "      <th>girl's job</th>\n",
       "      <th>boy's job</th>\n",
       "      <th>marry condition</th>\n",
       "      <th>women married/unmarried</th>\n",
       "      <th>mohor</th>\n",
       "      <th>dowry</th>\n",
       "    </tr>\n",
       "  </thead>\n",
       "  <tbody>\n",
       "    <tr>\n",
       "      <th>2428</th>\n",
       "      <td>2018</td>\n",
       "      <td>17</td>\n",
       "      <td>31</td>\n",
       "      <td>lower middle class</td>\n",
       "      <td>sunamganj</td>\n",
       "      <td>businessman</td>\n",
       "      <td>service holder</td>\n",
       "      <td>irrelevant marriage</td>\n",
       "      <td>single</td>\n",
       "      <td>360000</td>\n",
       "      <td>694700</td>\n",
       "    </tr>\n",
       "    <tr>\n",
       "      <th>2429</th>\n",
       "      <td>2018</td>\n",
       "      <td>18</td>\n",
       "      <td>33</td>\n",
       "      <td>higher middle class</td>\n",
       "      <td>habiganj</td>\n",
       "      <td>garments worker</td>\n",
       "      <td>businessman</td>\n",
       "      <td>irrelevant marriage</td>\n",
       "      <td>single</td>\n",
       "      <td>600000</td>\n",
       "      <td>aurnaments</td>\n",
       "    </tr>\n",
       "    <tr>\n",
       "      <th>2430</th>\n",
       "      <td>2018</td>\n",
       "      <td>21</td>\n",
       "      <td>31</td>\n",
       "      <td>higher class</td>\n",
       "      <td>habiganj</td>\n",
       "      <td>day labour</td>\n",
       "      <td>farmer</td>\n",
       "      <td>arrange marriage</td>\n",
       "      <td>single</td>\n",
       "      <td>640000</td>\n",
       "      <td>636600</td>\n",
       "    </tr>\n",
       "    <tr>\n",
       "      <th>2431</th>\n",
       "      <td>2018</td>\n",
       "      <td>20</td>\n",
       "      <td>31</td>\n",
       "      <td>proverty level</td>\n",
       "      <td>habiganj</td>\n",
       "      <td>day labour</td>\n",
       "      <td>driver</td>\n",
       "      <td>arrange marriage</td>\n",
       "      <td>single</td>\n",
       "      <td>96000</td>\n",
       "      <td>645800</td>\n",
       "    </tr>\n",
       "    <tr>\n",
       "      <th>2432</th>\n",
       "      <td>2018</td>\n",
       "      <td>19</td>\n",
       "      <td>28</td>\n",
       "      <td>higher class</td>\n",
       "      <td>habiganj</td>\n",
       "      <td>businessman</td>\n",
       "      <td>entrepreneur</td>\n",
       "      <td>forced marriage</td>\n",
       "      <td>single</td>\n",
       "      <td>660000</td>\n",
       "      <td>790400</td>\n",
       "    </tr>\n",
       "  </tbody>\n",
       "</table>\n",
       "</div>"
      ],
      "text/plain": [
       "      year  women's age  men's age  ... women married/unmarried   mohor       dowry\n",
       "2428  2018           17         31  ...                  single  360000      694700\n",
       "2429  2018           18         33  ...                  single  600000  aurnaments\n",
       "2430  2018           21         31  ...                  single  640000      636600\n",
       "2431  2018           20         31  ...                  single   96000      645800\n",
       "2432  2018           19         28  ...                  single  660000      790400\n",
       "\n",
       "[5 rows x 11 columns]"
      ]
     },
     "execution_count": 259,
     "metadata": {},
     "output_type": "execute_result"
    }
   ],
   "source": [
    "data.tail()"
   ]
  },
  {
   "cell_type": "code",
   "execution_count": 260,
   "metadata": {},
   "outputs": [],
   "source": [
    "def transform_column(df, col_name, new_col_name):\n",
    "    \"\"\"\n",
    "    This function transforms an existing column by:\n",
    "    - Creating a new column with numeric values from the original column.\n",
    "    - Replacing string values with 0 in the new column.\n",
    "    - Converting numeric values to the string 'MONEY' in the original column.\n",
    "    \n",
    "    Parameters:\n",
    "    - df: DataFrame\n",
    "    - col_name: Name of the existing column\n",
    "    - new_col_name: Name of the new column to be created\n",
    "    \n",
    "    Returns:\n",
    "    - DataFrame with the transformed column and new column.\n",
    "    \"\"\"\n",
    "    def extract_numeric(val):\n",
    "        try:\n",
    "            return float(val)\n",
    "        except ValueError:\n",
    "            return 0  # Replace non-numeric (string) values with 0\n",
    "\n",
    "    # Create the new column with numeric values or 0 for strings\n",
    "    df[new_col_name] = df[col_name].apply(extract_numeric)\n",
    "\n",
    "    # Replace numeric values with 'MONEY' in the original column\n",
    "    df[col_name] = df[col_name].apply(lambda x: 'money' if str(x).replace('.', '', 1).isdigit() else x)\n",
    "\n",
    "    return df\n"
   ]
  },
  {
   "cell_type": "code",
   "execution_count": 261,
   "metadata": {},
   "outputs": [],
   "source": [
    "#creating new column having money values (NUMERIC) from dowry column\n",
    "data = transform_column(data,col_name='dowry',new_col_name='dowry_money')"
   ]
  },
  {
   "cell_type": "code",
   "execution_count": 262,
   "metadata": {},
   "outputs": [
    {
     "data": {
      "text/html": [
       "<div>\n",
       "<style scoped>\n",
       "    .dataframe tbody tr th:only-of-type {\n",
       "        vertical-align: middle;\n",
       "    }\n",
       "\n",
       "    .dataframe tbody tr th {\n",
       "        vertical-align: top;\n",
       "    }\n",
       "\n",
       "    .dataframe thead th {\n",
       "        text-align: right;\n",
       "    }\n",
       "</style>\n",
       "<table border=\"1\" class=\"dataframe\">\n",
       "  <thead>\n",
       "    <tr style=\"text-align: right;\">\n",
       "      <th></th>\n",
       "      <th>year</th>\n",
       "      <th>women's age</th>\n",
       "      <th>men's age</th>\n",
       "      <th>family type</th>\n",
       "      <th>area</th>\n",
       "      <th>girl's job</th>\n",
       "      <th>boy's job</th>\n",
       "      <th>marry condition</th>\n",
       "      <th>women married/unmarried</th>\n",
       "      <th>mohor</th>\n",
       "      <th>dowry</th>\n",
       "      <th>dowry_money</th>\n",
       "    </tr>\n",
       "  </thead>\n",
       "  <tbody>\n",
       "    <tr>\n",
       "      <th>2428</th>\n",
       "      <td>2018</td>\n",
       "      <td>17</td>\n",
       "      <td>31</td>\n",
       "      <td>lower middle class</td>\n",
       "      <td>sunamganj</td>\n",
       "      <td>businessman</td>\n",
       "      <td>service holder</td>\n",
       "      <td>irrelevant marriage</td>\n",
       "      <td>single</td>\n",
       "      <td>360000</td>\n",
       "      <td>money</td>\n",
       "      <td>694700.0</td>\n",
       "    </tr>\n",
       "    <tr>\n",
       "      <th>2429</th>\n",
       "      <td>2018</td>\n",
       "      <td>18</td>\n",
       "      <td>33</td>\n",
       "      <td>higher middle class</td>\n",
       "      <td>habiganj</td>\n",
       "      <td>garments worker</td>\n",
       "      <td>businessman</td>\n",
       "      <td>irrelevant marriage</td>\n",
       "      <td>single</td>\n",
       "      <td>600000</td>\n",
       "      <td>aurnaments</td>\n",
       "      <td>0.0</td>\n",
       "    </tr>\n",
       "    <tr>\n",
       "      <th>2430</th>\n",
       "      <td>2018</td>\n",
       "      <td>21</td>\n",
       "      <td>31</td>\n",
       "      <td>higher class</td>\n",
       "      <td>habiganj</td>\n",
       "      <td>day labour</td>\n",
       "      <td>farmer</td>\n",
       "      <td>arrange marriage</td>\n",
       "      <td>single</td>\n",
       "      <td>640000</td>\n",
       "      <td>money</td>\n",
       "      <td>636600.0</td>\n",
       "    </tr>\n",
       "    <tr>\n",
       "      <th>2431</th>\n",
       "      <td>2018</td>\n",
       "      <td>20</td>\n",
       "      <td>31</td>\n",
       "      <td>proverty level</td>\n",
       "      <td>habiganj</td>\n",
       "      <td>day labour</td>\n",
       "      <td>driver</td>\n",
       "      <td>arrange marriage</td>\n",
       "      <td>single</td>\n",
       "      <td>96000</td>\n",
       "      <td>money</td>\n",
       "      <td>645800.0</td>\n",
       "    </tr>\n",
       "    <tr>\n",
       "      <th>2432</th>\n",
       "      <td>2018</td>\n",
       "      <td>19</td>\n",
       "      <td>28</td>\n",
       "      <td>higher class</td>\n",
       "      <td>habiganj</td>\n",
       "      <td>businessman</td>\n",
       "      <td>entrepreneur</td>\n",
       "      <td>forced marriage</td>\n",
       "      <td>single</td>\n",
       "      <td>660000</td>\n",
       "      <td>money</td>\n",
       "      <td>790400.0</td>\n",
       "    </tr>\n",
       "  </tbody>\n",
       "</table>\n",
       "</div>"
      ],
      "text/plain": [
       "      year  women's age  men's age  ...   mohor       dowry dowry_money\n",
       "2428  2018           17         31  ...  360000       money    694700.0\n",
       "2429  2018           18         33  ...  600000  aurnaments         0.0\n",
       "2430  2018           21         31  ...  640000       money    636600.0\n",
       "2431  2018           20         31  ...   96000       money    645800.0\n",
       "2432  2018           19         28  ...  660000       money    790400.0\n",
       "\n",
       "[5 rows x 12 columns]"
      ]
     },
     "execution_count": 262,
     "metadata": {},
     "output_type": "execute_result"
    }
   ],
   "source": [
    "data.tail()"
   ]
  },
  {
   "cell_type": "code",
   "execution_count": 263,
   "metadata": {},
   "outputs": [],
   "source": [
    "#deleting duplicates values if present.\n",
    "data.drop_duplicates(inplace=True)"
   ]
  },
  {
   "cell_type": "code",
   "execution_count": 264,
   "metadata": {},
   "outputs": [
    {
     "data": {
      "text/plain": [
       "year                       0\n",
       "women's age                0\n",
       "men's age                  0\n",
       "family type                0\n",
       "area                       0\n",
       "girl's job                 0\n",
       "boy's job                  0\n",
       "marry condition            0\n",
       "women married/unmarried    0\n",
       "mohor                      0\n",
       "dowry                      0\n",
       "dowry_money                0\n",
       "dtype: int64"
      ]
     },
     "execution_count": 264,
     "metadata": {},
     "output_type": "execute_result"
    }
   ],
   "source": [
    "#checking for missing values.\n",
    "data.isnull().sum()"
   ]
  },
  {
   "cell_type": "code",
   "execution_count": 265,
   "metadata": {},
   "outputs": [
    {
     "data": {
      "text/html": [
       "<div>\n",
       "<style scoped>\n",
       "    .dataframe tbody tr th:only-of-type {\n",
       "        vertical-align: middle;\n",
       "    }\n",
       "\n",
       "    .dataframe tbody tr th {\n",
       "        vertical-align: top;\n",
       "    }\n",
       "\n",
       "    .dataframe thead th {\n",
       "        text-align: right;\n",
       "    }\n",
       "</style>\n",
       "<table border=\"1\" class=\"dataframe\">\n",
       "  <thead>\n",
       "    <tr style=\"text-align: right;\">\n",
       "      <th></th>\n",
       "      <th>year</th>\n",
       "      <th>women's age</th>\n",
       "      <th>men's age</th>\n",
       "      <th>mohor</th>\n",
       "      <th>dowry_money</th>\n",
       "    </tr>\n",
       "  </thead>\n",
       "  <tbody>\n",
       "    <tr>\n",
       "      <th>count</th>\n",
       "      <td>2433.000000</td>\n",
       "      <td>2433.000000</td>\n",
       "      <td>2433.000000</td>\n",
       "      <td>2.433000e+03</td>\n",
       "      <td>2433.000000</td>\n",
       "    </tr>\n",
       "    <tr>\n",
       "      <th>mean</th>\n",
       "      <td>2016.050966</td>\n",
       "      <td>20.439786</td>\n",
       "      <td>32.376079</td>\n",
       "      <td>4.362927e+05</td>\n",
       "      <td>264326.715988</td>\n",
       "    </tr>\n",
       "    <tr>\n",
       "      <th>std</th>\n",
       "      <td>1.684107</td>\n",
       "      <td>2.463836</td>\n",
       "      <td>4.830128</td>\n",
       "      <td>3.185015e+05</td>\n",
       "      <td>298976.306561</td>\n",
       "    </tr>\n",
       "    <tr>\n",
       "      <th>min</th>\n",
       "      <td>2013.000000</td>\n",
       "      <td>16.000000</td>\n",
       "      <td>25.000000</td>\n",
       "      <td>4.000000e+04</td>\n",
       "      <td>0.000000</td>\n",
       "    </tr>\n",
       "    <tr>\n",
       "      <th>25%</th>\n",
       "      <td>2015.000000</td>\n",
       "      <td>18.000000</td>\n",
       "      <td>29.000000</td>\n",
       "      <td>2.310000e+05</td>\n",
       "      <td>0.000000</td>\n",
       "    </tr>\n",
       "    <tr>\n",
       "      <th>50%</th>\n",
       "      <td>2017.000000</td>\n",
       "      <td>20.000000</td>\n",
       "      <td>32.000000</td>\n",
       "      <td>3.690000e+05</td>\n",
       "      <td>0.000000</td>\n",
       "    </tr>\n",
       "    <tr>\n",
       "      <th>75%</th>\n",
       "      <td>2017.000000</td>\n",
       "      <td>22.000000</td>\n",
       "      <td>36.000000</td>\n",
       "      <td>5.500000e+05</td>\n",
       "      <td>558500.000000</td>\n",
       "    </tr>\n",
       "    <tr>\n",
       "      <th>max</th>\n",
       "      <td>2018.000000</td>\n",
       "      <td>25.000000</td>\n",
       "      <td>42.000000</td>\n",
       "      <td>1.485000e+06</td>\n",
       "      <td>799700.000000</td>\n",
       "    </tr>\n",
       "  </tbody>\n",
       "</table>\n",
       "</div>"
      ],
      "text/plain": [
       "              year  women's age    men's age         mohor    dowry_money\n",
       "count  2433.000000  2433.000000  2433.000000  2.433000e+03    2433.000000\n",
       "mean   2016.050966    20.439786    32.376079  4.362927e+05  264326.715988\n",
       "std       1.684107     2.463836     4.830128  3.185015e+05  298976.306561\n",
       "min    2013.000000    16.000000    25.000000  4.000000e+04       0.000000\n",
       "25%    2015.000000    18.000000    29.000000  2.310000e+05       0.000000\n",
       "50%    2017.000000    20.000000    32.000000  3.690000e+05       0.000000\n",
       "75%    2017.000000    22.000000    36.000000  5.500000e+05  558500.000000\n",
       "max    2018.000000    25.000000    42.000000  1.485000e+06  799700.000000"
      ]
     },
     "execution_count": 265,
     "metadata": {},
     "output_type": "execute_result"
    }
   ],
   "source": [
    "#stats of data\n",
    "data.describe()"
   ]
  },
  {
   "cell_type": "markdown",
   "metadata": {},
   "source": [
    "**women's age-**<br>\n",
    "    **- Average age of marriage : 20**<br>\n",
    "    **- Minimum age of marriage : 16**<br>\n",
    "    **- Maximum age of marriage : 25**<br>\n",
    "\n",
    "**men's age-**<br>\n",
    "    **- Average age of marriage : 32**<br>\n",
    "    **- Minimum age of marriage : 25**<br>\n",
    "    **- Maximum age of marriage : 42**<br>"
   ]
  },
  {
   "cell_type": "code",
   "execution_count": 266,
   "metadata": {},
   "outputs": [],
   "source": [
    "#function for checking outliers in columns\n",
    "def detect_outliers_iqr(df, column):\n",
    "    \"\"\"\n",
    "    Detects outliers in a specified column of a DataFrame using the IQR method.\n",
    "    \n",
    "    Parameters:\n",
    "    df (pd.DataFrame): The DataFrame to check for outliers.\n",
    "    column (str): The name of the column to check for outliers.\n",
    "    \n",
    "    Returns:\n",
    "    pd.DataFrame: A DataFrame containing only the outliers.\n",
    "    \"\"\"\n",
    "    Q1 = df[column].quantile(0.25)\n",
    "    Q3 = df[column].quantile(0.75)\n",
    "    IQR = Q3 - Q1\n",
    "    \n",
    "    lower_bound = Q1 - 1.5 * IQR\n",
    "    upper_bound = Q3 + 1.5 * IQR\n",
    "    \n",
    "    # Outliers are the values outside the IQR range\n",
    "    outliers = df[(df[column] < lower_bound) | (df[column] > upper_bound)]\n",
    "    \n",
    "    print(f\"Lower Bound: {lower_bound}, Upper Bound: {upper_bound}\")\n",
    "    return outliers\n"
   ]
  },
  {
   "cell_type": "code",
   "execution_count": 267,
   "metadata": {},
   "outputs": [
    {
     "name": "stdout",
     "output_type": "stream",
     "text": [
      "Lower Bound: 12.0, Upper Bound: 28.0\n"
     ]
    },
    {
     "data": {
      "text/html": [
       "<div>\n",
       "<style scoped>\n",
       "    .dataframe tbody tr th:only-of-type {\n",
       "        vertical-align: middle;\n",
       "    }\n",
       "\n",
       "    .dataframe tbody tr th {\n",
       "        vertical-align: top;\n",
       "    }\n",
       "\n",
       "    .dataframe thead th {\n",
       "        text-align: right;\n",
       "    }\n",
       "</style>\n",
       "<table border=\"1\" class=\"dataframe\">\n",
       "  <thead>\n",
       "    <tr style=\"text-align: right;\">\n",
       "      <th></th>\n",
       "      <th>year</th>\n",
       "      <th>women's age</th>\n",
       "      <th>men's age</th>\n",
       "      <th>family type</th>\n",
       "      <th>area</th>\n",
       "      <th>girl's job</th>\n",
       "      <th>boy's job</th>\n",
       "      <th>marry condition</th>\n",
       "      <th>women married/unmarried</th>\n",
       "      <th>mohor</th>\n",
       "      <th>dowry</th>\n",
       "      <th>dowry_money</th>\n",
       "    </tr>\n",
       "  </thead>\n",
       "  <tbody>\n",
       "  </tbody>\n",
       "</table>\n",
       "</div>"
      ],
      "text/plain": [
       "Empty DataFrame\n",
       "Columns: [year, women's age, men's age, family type, area, girl's job, boy's job, marry condition, women married/unmarried, mohor, dowry, dowry_money]\n",
       "Index: []"
      ]
     },
     "execution_count": 267,
     "metadata": {},
     "output_type": "execute_result"
    }
   ],
   "source": [
    "detect_outliers_iqr(data,\"women's age\")"
   ]
  },
  {
   "cell_type": "code",
   "execution_count": 268,
   "metadata": {},
   "outputs": [
    {
     "name": "stdout",
     "output_type": "stream",
     "text": [
      "Lower Bound: 18.5, Upper Bound: 46.5\n"
     ]
    },
    {
     "data": {
      "text/html": [
       "<div>\n",
       "<style scoped>\n",
       "    .dataframe tbody tr th:only-of-type {\n",
       "        vertical-align: middle;\n",
       "    }\n",
       "\n",
       "    .dataframe tbody tr th {\n",
       "        vertical-align: top;\n",
       "    }\n",
       "\n",
       "    .dataframe thead th {\n",
       "        text-align: right;\n",
       "    }\n",
       "</style>\n",
       "<table border=\"1\" class=\"dataframe\">\n",
       "  <thead>\n",
       "    <tr style=\"text-align: right;\">\n",
       "      <th></th>\n",
       "      <th>year</th>\n",
       "      <th>women's age</th>\n",
       "      <th>men's age</th>\n",
       "      <th>family type</th>\n",
       "      <th>area</th>\n",
       "      <th>girl's job</th>\n",
       "      <th>boy's job</th>\n",
       "      <th>marry condition</th>\n",
       "      <th>women married/unmarried</th>\n",
       "      <th>mohor</th>\n",
       "      <th>dowry</th>\n",
       "      <th>dowry_money</th>\n",
       "    </tr>\n",
       "  </thead>\n",
       "  <tbody>\n",
       "  </tbody>\n",
       "</table>\n",
       "</div>"
      ],
      "text/plain": [
       "Empty DataFrame\n",
       "Columns: [year, women's age, men's age, family type, area, girl's job, boy's job, marry condition, women married/unmarried, mohor, dowry, dowry_money]\n",
       "Index: []"
      ]
     },
     "execution_count": 268,
     "metadata": {},
     "output_type": "execute_result"
    }
   ],
   "source": [
    "detect_outliers_iqr(data,\"men's age\")"
   ]
  },
  {
   "cell_type": "code",
   "execution_count": 269,
   "metadata": {},
   "outputs": [
    {
     "name": "stdout",
     "output_type": "stream",
     "text": [
      "Lower Bound: -247500.0, Upper Bound: 1028500.0\n"
     ]
    },
    {
     "data": {
      "text/plain": [
       "(231, 12)"
      ]
     },
     "execution_count": 269,
     "metadata": {},
     "output_type": "execute_result"
    }
   ],
   "source": [
    "detect_outliers_iqr(data,\"mohor\").shape"
   ]
  },
  {
   "cell_type": "code",
   "execution_count": 270,
   "metadata": {},
   "outputs": [],
   "source": [
    "def detect_outliers_zscore(df, column, threshold=3):\n",
    "    \"\"\"\n",
    "    Detects outliers in a specified column of a DataFrame using the Z-score method.\n",
    "    \n",
    "    Parameters:\n",
    "    df (pd.DataFrame): The DataFrame to check for outliers.\n",
    "    column (str): The name of the column to check for outliers.\n",
    "    threshold (float): The Z-score threshold to consider an outlier (default is 3).\n",
    "    \n",
    "    Returns:\n",
    "    pd.DataFrame: A DataFrame containing only the outliers.\n",
    "    \"\"\"\n",
    "    mean_col = df[column].mean()\n",
    "    std_col = df[column].std()\n",
    "    \n",
    "    # Calculate the Z-scores\n",
    "    df['Z_score'] = (df[column] - mean_col) / std_col\n",
    "    \n",
    "    # Outliers are values with Z-scores greater than the threshold (absolute value)\n",
    "    outliers = df[np.abs(df['Z_score']) > threshold]\n",
    "    \n",
    "    return outliers\n"
   ]
  },
  {
   "cell_type": "code",
   "execution_count": 271,
   "metadata": {},
   "outputs": [
    {
     "data": {
      "text/html": [
       "<div>\n",
       "<style scoped>\n",
       "    .dataframe tbody tr th:only-of-type {\n",
       "        vertical-align: middle;\n",
       "    }\n",
       "\n",
       "    .dataframe tbody tr th {\n",
       "        vertical-align: top;\n",
       "    }\n",
       "\n",
       "    .dataframe thead th {\n",
       "        text-align: right;\n",
       "    }\n",
       "</style>\n",
       "<table border=\"1\" class=\"dataframe\">\n",
       "  <thead>\n",
       "    <tr style=\"text-align: right;\">\n",
       "      <th></th>\n",
       "      <th>year</th>\n",
       "      <th>women's age</th>\n",
       "      <th>men's age</th>\n",
       "      <th>family type</th>\n",
       "      <th>area</th>\n",
       "      <th>girl's job</th>\n",
       "      <th>boy's job</th>\n",
       "      <th>marry condition</th>\n",
       "      <th>women married/unmarried</th>\n",
       "      <th>mohor</th>\n",
       "      <th>dowry</th>\n",
       "      <th>dowry_money</th>\n",
       "      <th>Z_score</th>\n",
       "    </tr>\n",
       "  </thead>\n",
       "  <tbody>\n",
       "  </tbody>\n",
       "</table>\n",
       "</div>"
      ],
      "text/plain": [
       "Empty DataFrame\n",
       "Columns: [year, women's age, men's age, family type, area, girl's job, boy's job, marry condition, women married/unmarried, mohor, dowry, dowry_money, Z_score]\n",
       "Index: []"
      ]
     },
     "execution_count": 271,
     "metadata": {},
     "output_type": "execute_result"
    }
   ],
   "source": [
    "detect_outliers_zscore(data,\"women's age\")"
   ]
  },
  {
   "cell_type": "code",
   "execution_count": 272,
   "metadata": {},
   "outputs": [
    {
     "data": {
      "text/html": [
       "<div>\n",
       "<style scoped>\n",
       "    .dataframe tbody tr th:only-of-type {\n",
       "        vertical-align: middle;\n",
       "    }\n",
       "\n",
       "    .dataframe tbody tr th {\n",
       "        vertical-align: top;\n",
       "    }\n",
       "\n",
       "    .dataframe thead th {\n",
       "        text-align: right;\n",
       "    }\n",
       "</style>\n",
       "<table border=\"1\" class=\"dataframe\">\n",
       "  <thead>\n",
       "    <tr style=\"text-align: right;\">\n",
       "      <th></th>\n",
       "      <th>year</th>\n",
       "      <th>women's age</th>\n",
       "      <th>men's age</th>\n",
       "      <th>family type</th>\n",
       "      <th>area</th>\n",
       "      <th>girl's job</th>\n",
       "      <th>boy's job</th>\n",
       "      <th>marry condition</th>\n",
       "      <th>women married/unmarried</th>\n",
       "      <th>mohor</th>\n",
       "      <th>dowry</th>\n",
       "      <th>dowry_money</th>\n",
       "      <th>Z_score</th>\n",
       "    </tr>\n",
       "  </thead>\n",
       "  <tbody>\n",
       "  </tbody>\n",
       "</table>\n",
       "</div>"
      ],
      "text/plain": [
       "Empty DataFrame\n",
       "Columns: [year, women's age, men's age, family type, area, girl's job, boy's job, marry condition, women married/unmarried, mohor, dowry, dowry_money, Z_score]\n",
       "Index: []"
      ]
     },
     "execution_count": 272,
     "metadata": {},
     "output_type": "execute_result"
    }
   ],
   "source": [
    "detect_outliers_zscore(data,\"men's age\")"
   ]
  },
  {
   "cell_type": "code",
   "execution_count": 273,
   "metadata": {},
   "outputs": [
    {
     "data": {
      "text/plain": [
       "(33, 13)"
      ]
     },
     "execution_count": 273,
     "metadata": {},
     "output_type": "execute_result"
    }
   ],
   "source": [
    "detect_outliers_zscore(data,\"mohor\").shape"
   ]
  },
  {
   "cell_type": "markdown",
   "metadata": {},
   "source": [
    "**The Interquartile Range (IQR) method is often better than the Z-score method for identifying outliers in skewed or non-normal data**\n",
    "### **IQR method-**\n",
    "**This method is more robust and less affected by extreme values, making it a better choice for identifying outliers in skewed distributions. It's also simple to calculate and the data spread is easy to interpret. However, it can only handle univariate data, and it can remove valid data points if the data is skewed or has heavy tails.** \n",
    "### **Z-score method-**\n",
    "**This method is useful when data closely follow a normal distribution. It can be used to identify outliers, understand where an individual score fits into a distribution, and normalize scores for statistical decision-making. However, it can be sensitive to skewness and misidentify points as outliers. It can also have drawbacks when used for predictive modeling, such as losing the original meaning and scale of the data.**\n",
    "**A Z-score is a standard score, which is the number of standard deviations by which a raw score is above or below the mean.**"
   ]
  },
  {
   "cell_type": "code",
   "execution_count": 274,
   "metadata": {},
   "outputs": [],
   "source": [
    "def check_for_skew(data,column):\n",
    "    skew_score = data[column].skew()\n",
    "    if skew_score > 0:\n",
    "        print(\"The distribution has a longer or fatter tail on the right side.(Positive skew)\")\n",
    "    else:\n",
    "        print(\"The distribution has a longer or fatter tail on the left side.(Negative skew)\")"
   ]
  },
  {
   "cell_type": "code",
   "execution_count": 275,
   "metadata": {},
   "outputs": [
    {
     "name": "stdout",
     "output_type": "stream",
     "text": [
      "The distribution has a longer or fatter tail on the right side.(Positive skew)\n"
     ]
    }
   ],
   "source": [
    "check_for_skew(data,\"mohor\")"
   ]
  },
  {
   "cell_type": "markdown",
   "metadata": {},
   "source": [
    "**In the case of a positively skewed distribution, IQR tends to perform better.**"
   ]
  },
  {
   "cell_type": "code",
   "execution_count": 276,
   "metadata": {},
   "outputs": [
    {
     "data": {
      "text/plain": [
       "<Axes: xlabel='mohor'>"
      ]
     },
     "execution_count": 276,
     "metadata": {},
     "output_type": "execute_result"
    },
    {
     "data": {
      "image/png": "[encoded data removed]",
      "text/plain": [
       "<Figure size 640x480 with 1 Axes>"
      ]
     },
     "metadata": {},
     "output_type": "display_data"
    }
   ],
   "source": [
    "#box plot for checking outliers\n",
    "sns.boxplot(data,x='mohor',)"
   ]
  },
  {
   "cell_type": "code",
   "execution_count": 277,
   "metadata": {},
   "outputs": [],
   "source": [
    "def reduce_skewness(data,column):\n",
    "    data[column], _ = stats.boxcox(data[column])"
   ]
  },
  {
   "cell_type": "code",
   "execution_count": 278,
   "metadata": {},
   "outputs": [],
   "source": [
    "reduce_skewness(data,'mohor')"
   ]
  },
  {
   "cell_type": "code",
   "execution_count": 279,
   "metadata": {},
   "outputs": [
    {
     "name": "stdout",
     "output_type": "stream",
     "text": [
      "Lower Bound: 28.422532594144712, Upper Bound: 54.639072763210294\n",
      "Total rows having outliers :  (35, 13)\n"
     ]
    }
   ],
   "source": [
    "print(\"Total rows having outliers : \",detect_outliers_iqr(data,'mohor').shape)"
   ]
  },
  {
   "cell_type": "markdown",
   "metadata": {},
   "source": [
    "**Now only 35 rows (outliers) are remaining out of 2433 rows, so we can remove them.**"
   ]
  },
  {
   "cell_type": "code",
   "execution_count": 280,
   "metadata": {},
   "outputs": [],
   "source": [
    "#removing 35 rows \n",
    "Q1 = data[\"mohor\"].quantile(0.25)\n",
    "Q3 = data[\"mohor\"].quantile(0.75)\n",
    "IQR = Q3 - Q1\n",
    "            \n",
    "lower_bound = Q1 - 1.5 * IQR\n",
    "upper_bound = Q3 + 1.5 * IQR\n",
    "data = data[(data[\"mohor\"] >= lower_bound) & (data[\"mohor\"] <= upper_bound)]"
   ]
  },
  {
   "cell_type": "code",
   "execution_count": 281,
   "metadata": {},
   "outputs": [
    {
     "name": "stdout",
     "output_type": "stream",
     "text": [
      "Lower Bound: 28.20369557288055, Upper Bound: 55.00380113198389\n",
      "Total rows having outliers :  (0, 13)\n",
      "Value of skewness :  0.12461185492524458\n",
      "The distribution has a longer or fatter tail on the right side.(Positive skew)\n"
     ]
    }
   ],
   "source": [
    "print(\"Total rows having outliers : \",detect_outliers_iqr(data,'mohor').shape)\n",
    "print(\"Value of skewness : \",data[\"mohor\"].skew())\n",
    "check_for_skew(data,\"mohor\")"
   ]
  },
  {
   "cell_type": "code",
   "execution_count": 282,
   "metadata": {},
   "outputs": [
    {
     "data": {
      "text/plain": [
       "<Axes: xlabel='mohor', ylabel='Density'>"
      ]
     },
     "execution_count": 282,
     "metadata": {},
     "output_type": "execute_result"
    },
    {
     "data": {
      "image/png": "[encoded data removed]",
      "text/plain": [
       "<Figure size 640x480 with 1 Axes>"
      ]
     },
     "metadata": {},
     "output_type": "display_data"
    }
   ],
   "source": [
    "sns.kdeplot(data,x=\"mohor\",)"
   ]
  },
  {
   "cell_type": "markdown",
   "metadata": {},
   "source": [
    "**Now column is noramlly distributed.**"
   ]
  },
  {
   "cell_type": "code",
   "execution_count": 283,
   "metadata": {},
   "outputs": [],
   "source": [
    "data.drop(columns='Z_score',inplace=True)"
   ]
  },
  {
   "cell_type": "code",
   "execution_count": 284,
   "metadata": {},
   "outputs": [
    {
     "data": {
      "text/html": [
       "<div>\n",
       "<style scoped>\n",
       "    .dataframe tbody tr th:only-of-type {\n",
       "        vertical-align: middle;\n",
       "    }\n",
       "\n",
       "    .dataframe tbody tr th {\n",
       "        vertical-align: top;\n",
       "    }\n",
       "\n",
       "    .dataframe thead th {\n",
       "        text-align: right;\n",
       "    }\n",
       "</style>\n",
       "<table border=\"1\" class=\"dataframe\">\n",
       "  <thead>\n",
       "    <tr style=\"text-align: right;\">\n",
       "      <th></th>\n",
       "      <th>year</th>\n",
       "      <th>women's age</th>\n",
       "      <th>men's age</th>\n",
       "      <th>family type</th>\n",
       "      <th>area</th>\n",
       "      <th>girl's job</th>\n",
       "      <th>boy's job</th>\n",
       "      <th>marry condition</th>\n",
       "      <th>women married/unmarried</th>\n",
       "      <th>mohor</th>\n",
       "      <th>dowry</th>\n",
       "      <th>dowry_money</th>\n",
       "    </tr>\n",
       "  </thead>\n",
       "  <tbody>\n",
       "    <tr>\n",
       "      <th>0</th>\n",
       "      <td>2013</td>\n",
       "      <td>20</td>\n",
       "      <td>25</td>\n",
       "      <td>rich class</td>\n",
       "      <td>sylhet</td>\n",
       "      <td>businessman</td>\n",
       "      <td>businessman</td>\n",
       "      <td>forced marriage</td>\n",
       "      <td>single</td>\n",
       "      <td>42.392454</td>\n",
       "      <td>aurnaments</td>\n",
       "      <td>0.0</td>\n",
       "    </tr>\n",
       "    <tr>\n",
       "      <th>1</th>\n",
       "      <td>2013</td>\n",
       "      <td>18</td>\n",
       "      <td>38</td>\n",
       "      <td>lower middle class</td>\n",
       "      <td>habiganj</td>\n",
       "      <td>entrepreneur</td>\n",
       "      <td>businessman</td>\n",
       "      <td>irrelevant marriage</td>\n",
       "      <td>single</td>\n",
       "      <td>35.545238</td>\n",
       "      <td>money</td>\n",
       "      <td>354600.0</td>\n",
       "    </tr>\n",
       "    <tr>\n",
       "      <th>2</th>\n",
       "      <td>2013</td>\n",
       "      <td>22</td>\n",
       "      <td>37</td>\n",
       "      <td>rich class</td>\n",
       "      <td>mymensingh</td>\n",
       "      <td>businessman</td>\n",
       "      <td>businessman</td>\n",
       "      <td>irrelevant marriage</td>\n",
       "      <td>single</td>\n",
       "      <td>41.863870</td>\n",
       "      <td>aurnaments</td>\n",
       "      <td>0.0</td>\n",
       "    </tr>\n",
       "    <tr>\n",
       "      <th>3</th>\n",
       "      <td>2013</td>\n",
       "      <td>19</td>\n",
       "      <td>39</td>\n",
       "      <td>lower middle class</td>\n",
       "      <td>mymensingh</td>\n",
       "      <td>businessman</td>\n",
       "      <td>businessman</td>\n",
       "      <td>irrelevant marriage</td>\n",
       "      <td>single</td>\n",
       "      <td>35.545238</td>\n",
       "      <td>money</td>\n",
       "      <td>445800.0</td>\n",
       "    </tr>\n",
       "    <tr>\n",
       "      <th>5</th>\n",
       "      <td>2013</td>\n",
       "      <td>23</td>\n",
       "      <td>26</td>\n",
       "      <td>higher class</td>\n",
       "      <td>Jamalpur</td>\n",
       "      <td>lower service holder</td>\n",
       "      <td>service holder</td>\n",
       "      <td>love marriage</td>\n",
       "      <td>single</td>\n",
       "      <td>38.124582</td>\n",
       "      <td>money</td>\n",
       "      <td>363700.0</td>\n",
       "    </tr>\n",
       "  </tbody>\n",
       "</table>\n",
       "</div>"
      ],
      "text/plain": [
       "   year  women's age  men's age  ...      mohor       dowry dowry_money\n",
       "0  2013           20         25  ...  42.392454  aurnaments         0.0\n",
       "1  2013           18         38  ...  35.545238       money    354600.0\n",
       "2  2013           22         37  ...  41.863870  aurnaments         0.0\n",
       "3  2013           19         39  ...  35.545238       money    445800.0\n",
       "5  2013           23         26  ...  38.124582       money    363700.0\n",
       "\n",
       "[5 rows x 12 columns]"
      ]
     },
     "execution_count": 284,
     "metadata": {},
     "output_type": "execute_result"
    }
   ],
   "source": [
    "data.head()"
   ]
  },
  {
   "cell_type": "code",
   "execution_count": 285,
   "metadata": {},
   "outputs": [],
   "source": [
    "def countplot(data,column):\n",
    "    bar = sns.countplot(data=data,x=column,palette='rocket')\n",
    "    for bars in bar.containers:\n",
    "        bar.bar_label(bars)\n",
    "    plt.tight_layout()"
   ]
  },
  {
   "cell_type": "code",
   "execution_count": 286,
   "metadata": {},
   "outputs": [
    {
     "data": {
      "image/png": "[encoded data removed]",
      "text/plain": [
       "<Figure size 1000x400 with 1 Axes>"
      ]
     },
     "metadata": {},
     "output_type": "display_data"
    }
   ],
   "source": [
    "plt.figure(figsize=(10,4))\n",
    "countplot(data,\"family type\")"
   ]
  },
  {
   "cell_type": "code",
   "execution_count": 287,
   "metadata": {},
   "outputs": [
    {
     "data": {
      "image/png": "[encoded data removed]",
      "text/plain": [
       "<Figure size 1000x400 with 1 Axes>"
      ]
     },
     "metadata": {},
     "output_type": "display_data"
    }
   ],
   "source": [
    "plt.figure(figsize=(10,4))\n",
    "countplot(data,\"girl's job\")"
   ]
  },
  {
   "cell_type": "code",
   "execution_count": 288,
   "metadata": {},
   "outputs": [
    {
     "data": {
      "image/png": "[encoded data removed]",
      "text/plain": [
       "<Figure size 1100x400 with 1 Axes>"
      ]
     },
     "metadata": {},
     "output_type": "display_data"
    }
   ],
   "source": [
    "plt.figure(figsize=(11,4))\n",
    "countplot(data,\"boy's job\")"
   ]
  },
  {
   "cell_type": "code",
   "execution_count": 289,
   "metadata": {},
   "outputs": [
    {
     "data": {
      "image/png": "[encoded data removed]",
      "text/plain": [
       "<Figure size 800x400 with 1 Axes>"
      ]
     },
     "metadata": {},
     "output_type": "display_data"
    }
   ],
   "source": [
    "plt.figure(figsize=(8,4))\n",
    "countplot(data,'marry condition')"
   ]
  },
  {
   "cell_type": "code",
   "execution_count": 290,
   "metadata": {},
   "outputs": [
    {
     "data": {
      "image/png": "[encoded data removed]",
      "text/plain": [
       "<Figure size 640x480 with 1 Axes>"
      ]
     },
     "metadata": {},
     "output_type": "display_data"
    }
   ],
   "source": [
    "countplot(data,'women married/unmarried')"
   ]
  },
  {
   "cell_type": "code",
   "execution_count": 291,
   "metadata": {},
   "outputs": [
    {
     "data": {
      "image/png": "[encoded data removed]",
      "text/plain": [
       "<Figure size 800x400 with 1 Axes>"
      ]
     },
     "metadata": {},
     "output_type": "display_data"
    }
   ],
   "source": [
    "plt.figure(figsize=(8,4))\n",
    "countplot(data,'dowry')"
   ]
  },
  {
   "cell_type": "markdown",
   "metadata": {},
   "source": [
    "### **Machine learning Model :**"
   ]
  },
  {
   "cell_type": "code",
   "execution_count": 344,
   "metadata": {},
   "outputs": [],
   "source": [
    "import optuna\n",
    "from sklearn.model_selection import train_test_split\n",
    "from sklearn.compose import ColumnTransformer\n",
    "from sklearn.preprocessing import FunctionTransformer,OneHotEncoder\n",
    "from sklearn.preprocessing import StandardScaler\n",
    "\n",
    "from sklearn.pipeline import Pipeline\n",
    "from category_encoders import BinaryEncoder\n",
    "from sklearn.ensemble import RandomForestClassifier, GradientBoostingClassifier\n",
    "from sklearn.svm import SVC\n",
    "from sklearn.model_selection import cross_val_score\n"
   ]
  },
  {
   "cell_type": "code",
   "execution_count": 345,
   "metadata": {},
   "outputs": [],
   "source": [
    "X = data.drop(columns=['dowry','dowry_money'])\n",
    "y_dowry_money = data['dowry_money']\n",
    "y_dowry = data['dowry']"
   ]
  },
  {
   "cell_type": "code",
   "execution_count": 346,
   "metadata": {},
   "outputs": [],
   "source": [
    "X_train, X_test, y_dowry_money_train, y_dowry_money_test, y_dowry_train, y_dowry_test = train_test_split(\n",
    "    X, y_dowry_money, y_dowry, test_size=0.2, stratify=y_dowry,random_state=42)"
   ]
  },
  {
   "cell_type": "code",
   "execution_count": 347,
   "metadata": {},
   "outputs": [
    {
     "name": "stdout",
     "output_type": "stream",
     "text": [
      "<class 'pandas.core.frame.DataFrame'>\n",
      "Index: 2398 entries, 0 to 2432\n",
      "Data columns (total 12 columns):\n",
      " #   Column                   Non-Null Count  Dtype  \n",
      "---  ------                   --------------  -----  \n",
      " 0   year                     2398 non-null   int64  \n",
      " 1   women's age              2398 non-null   int64  \n",
      " 2   men's age                2398 non-null   int64  \n",
      " 3   family type              2398 non-null   object \n",
      " 4   area                     2398 non-null   object \n",
      " 5   girl's job               2398 non-null   object \n",
      " 6   boy's job                2398 non-null   object \n",
      " 7   marry condition          2398 non-null   object \n",
      " 8   women married/unmarried  2398 non-null   object \n",
      " 9   mohor                    2398 non-null   float64\n",
      " 10  dowry                    2398 non-null   object \n",
      " 11  dowry_money              2398 non-null   float64\n",
      "dtypes: float64(2), int64(3), object(7)\n",
      "memory usage: 243.5+ KB\n"
     ]
    }
   ],
   "source": [
    "\n",
    "data.info()"
   ]
  },
  {
   "cell_type": "code",
   "execution_count": 348,
   "metadata": {},
   "outputs": [],
   "source": [
    "numerical_features = X_train.select_dtypes(['int64','float64'])\n",
    "categorical_features = X_train.select_dtypes('object')"
   ]
  },
  {
   "cell_type": "code",
   "execution_count": 366,
   "metadata": {},
   "outputs": [],
   "source": [
    "categorical_transformer = Pipeline(steps=[\n",
    "    ('onehot', OneHotEncoder(handle_unknown='ignore'))\n",
    "])"
   ]
  },
  {
   "cell_type": "code",
   "execution_count": 367,
   "metadata": {},
   "outputs": [],
   "source": [
    "# numerical_transformer = Pipeline([\n",
    "#     'reduce_skewness',FunctionTransformer(reduce_skewness,validate=True)\n",
    "# ])"
   ]
  },
  {
   "cell_type": "code",
   "execution_count": 368,
   "metadata": {},
   "outputs": [],
   "source": [
    "numerical_transformer = Pipeline(steps=[\n",
    "    ('scaler', StandardScaler())  # Standardizes the features\n",
    "])"
   ]
  },
  {
   "cell_type": "code",
   "execution_count": 373,
   "metadata": {},
   "outputs": [],
   "source": [
    "preprocessor = ColumnTransformer(\n",
    "    transformers=[\n",
    "        ('num', numerical_transformer, ['year', \"women's age\", \"men's age\", 'mohor']),\n",
    "        ('cat', categorical_transformer, ['family type', 'area', \"girl's job\", \"boy's job\", 'marry condition', 'women married/unmarried'])\n",
    "    ]\n",
    ")"
   ]
  },
  {
   "cell_type": "code",
   "execution_count": 374,
   "metadata": {},
   "outputs": [
    {
     "data": {
      "text/html": [
       "<div>\n",
       "<style scoped>\n",
       "    .dataframe tbody tr th:only-of-type {\n",
       "        vertical-align: middle;\n",
       "    }\n",
       "\n",
       "    .dataframe tbody tr th {\n",
       "        vertical-align: top;\n",
       "    }\n",
       "\n",
       "    .dataframe thead th {\n",
       "        text-align: right;\n",
       "    }\n",
       "</style>\n",
       "<table border=\"1\" class=\"dataframe\">\n",
       "  <thead>\n",
       "    <tr style=\"text-align: right;\">\n",
       "      <th></th>\n",
       "      <th>family type</th>\n",
       "      <th>area</th>\n",
       "      <th>girl's job</th>\n",
       "      <th>boy's job</th>\n",
       "      <th>marry condition</th>\n",
       "      <th>women married/unmarried</th>\n",
       "    </tr>\n",
       "  </thead>\n",
       "  <tbody>\n",
       "    <tr>\n",
       "      <th>2132</th>\n",
       "      <td>rich class</td>\n",
       "      <td>Kurigram</td>\n",
       "      <td>businessman</td>\n",
       "      <td>service holder</td>\n",
       "      <td>forced marriage</td>\n",
       "      <td>single</td>\n",
       "    </tr>\n",
       "    <tr>\n",
       "      <th>869</th>\n",
       "      <td>higher class</td>\n",
       "      <td>naogaon</td>\n",
       "      <td>businessman</td>\n",
       "      <td>service holder</td>\n",
       "      <td>irrelevant marriage</td>\n",
       "      <td>single</td>\n",
       "    </tr>\n",
       "    <tr>\n",
       "      <th>767</th>\n",
       "      <td>rich class</td>\n",
       "      <td>Shariatpur</td>\n",
       "      <td>businessman</td>\n",
       "      <td>businessman</td>\n",
       "      <td>forced marriage</td>\n",
       "      <td>single</td>\n",
       "    </tr>\n",
       "    <tr>\n",
       "      <th>954</th>\n",
       "      <td>higher class</td>\n",
       "      <td>Kurigram</td>\n",
       "      <td>businessman</td>\n",
       "      <td>farmer</td>\n",
       "      <td>arrange marriage</td>\n",
       "      <td>single</td>\n",
       "    </tr>\n",
       "    <tr>\n",
       "      <th>634</th>\n",
       "      <td>rich class</td>\n",
       "      <td>Tangail</td>\n",
       "      <td>businessman</td>\n",
       "      <td>service holder</td>\n",
       "      <td>irrelevant marriage</td>\n",
       "      <td>single</td>\n",
       "    </tr>\n",
       "    <tr>\n",
       "      <th>...</th>\n",
       "      <td>...</td>\n",
       "      <td>...</td>\n",
       "      <td>...</td>\n",
       "      <td>...</td>\n",
       "      <td>...</td>\n",
       "      <td>...</td>\n",
       "    </tr>\n",
       "    <tr>\n",
       "      <th>1102</th>\n",
       "      <td>higher class</td>\n",
       "      <td>Netrokona</td>\n",
       "      <td>businessman</td>\n",
       "      <td>service holder</td>\n",
       "      <td>forced marriage</td>\n",
       "      <td>single</td>\n",
       "    </tr>\n",
       "    <tr>\n",
       "      <th>2177</th>\n",
       "      <td>rich class</td>\n",
       "      <td>pabna</td>\n",
       "      <td>businessman</td>\n",
       "      <td>businessman</td>\n",
       "      <td>forced marriage</td>\n",
       "      <td>single</td>\n",
       "    </tr>\n",
       "    <tr>\n",
       "      <th>2112</th>\n",
       "      <td>higher class</td>\n",
       "      <td>sirajganj</td>\n",
       "      <td>entrepreneur</td>\n",
       "      <td>businessman</td>\n",
       "      <td>irrelevant marriage</td>\n",
       "      <td>single</td>\n",
       "    </tr>\n",
       "    <tr>\n",
       "      <th>227</th>\n",
       "      <td>higher class</td>\n",
       "      <td>Chattogram</td>\n",
       "      <td>businessman</td>\n",
       "      <td>farmer</td>\n",
       "      <td>irrelevant marriage</td>\n",
       "      <td>single</td>\n",
       "    </tr>\n",
       "    <tr>\n",
       "      <th>2355</th>\n",
       "      <td>rich class</td>\n",
       "      <td>Munshiganj</td>\n",
       "      <td>businessman</td>\n",
       "      <td>businessman</td>\n",
       "      <td>forced marriage</td>\n",
       "      <td>single</td>\n",
       "    </tr>\n",
       "  </tbody>\n",
       "</table>\n",
       "<p>1918 rows × 6 columns</p>\n",
       "</div>"
      ],
      "text/plain": [
       "       family type         area  ...      marry condition women married/unmarried\n",
       "2132    rich class    Kurigram   ...      forced marriage                  single\n",
       "869   higher class     naogaon   ...  irrelevant marriage                  single\n",
       "767     rich class  Shariatpur   ...      forced marriage                  single\n",
       "954   higher class    Kurigram   ...     arrange marriage                  single\n",
       "634     rich class     Tangail   ...  irrelevant marriage                  single\n",
       "...            ...          ...  ...                  ...                     ...\n",
       "1102  higher class   Netrokona   ...      forced marriage                  single\n",
       "2177    rich class       pabna   ...      forced marriage                  single\n",
       "2112  higher class   sirajganj   ...  irrelevant marriage                  single\n",
       "227   higher class  Chattogram   ...  irrelevant marriage                  single\n",
       "2355    rich class  Munshiganj   ...      forced marriage                  single\n",
       "\n",
       "[1918 rows x 6 columns]"
      ]
     },
     "execution_count": 374,
     "metadata": {},
     "output_type": "execute_result"
    }
   ],
   "source": [
    "categorical_features"
   ]
  },
  {
   "cell_type": "code",
   "execution_count": 383,
   "metadata": {},
   "outputs": [],
   "source": [
    "def objective(trial):\n",
    "    classifier_name = trial.suggest_categorical('classifier', ['SVM', 'RandomForest', 'GradientBoosting'])\n",
    "\n",
    "    if classifier_name == 'SVM':\n",
    "        c = trial.suggest_float('C', 0.1, 100, log=True)\n",
    "        kernel = trial.suggest_categorical('kernel', ['linear', 'rbf', 'poly', 'sigmoid'])\n",
    "        degree = trial.suggest_int('degree', 1, 100)\n",
    "        coef0 = trial.suggest_float('coef0', 0.0, 10)\n",
    "        max_iter = trial.suggest_int('max_iter', -1, 100)\n",
    "        gamma = trial.suggest_categorical('gamma', ['scale', 'auto'])\n",
    "\n",
    "        model = SVC(C=c, kernel=kernel, degree=degree, gamma=gamma, coef0=coef0, max_iter=max_iter, random_state=42)\n",
    "\n",
    "    elif classifier_name == 'RandomForest':\n",
    "        n_estimators = trial.suggest_int('n_estimators', 50, 300)\n",
    "        max_features = trial.suggest_categorical('max_features', ['sqrt', 'log2'])\n",
    "        oob_score = trial.suggest_categorical('oob_score', [True, False])\n",
    "        max_depth = trial.suggest_int('max_depth', 3, 100)\n",
    "        min_samples_split = trial.suggest_int('min_samples_split', 2, 100)\n",
    "        min_samples_leaf = trial.suggest_int('min_samples_leaf', 1, 100)\n",
    "        n_jobs = trial.suggest_int('n_jobs', -1, 1, 100)\n",
    "\n",
    "        model = RandomForestClassifier(\n",
    "            n_estimators=n_estimators,\n",
    "            max_depth=max_depth,\n",
    "            min_samples_split=min_samples_split,\n",
    "            min_samples_leaf=min_samples_leaf,\n",
    "            max_features=max_features,\n",
    "            random_state=42,\n",
    "            oob_score=oob_score,\n",
    "            n_jobs=n_jobs\n",
    "        )\n",
    "\n",
    "    elif classifier_name == 'GradientBoosting':\n",
    "        n_estimators = trial.suggest_int('n_estimators', 50, 300)\n",
    "        learning_rate = trial.suggest_float('learning_rate', 0.01, 0.3, log=True)\n",
    "        max_depth = trial.suggest_int('max_depth', 3, 100)\n",
    "        min_samples_split = trial.suggest_int('min_samples_split', 2, 100)\n",
    "        min_samples_leaf = trial.suggest_int('min_samples_leaf', 1, 100)\n",
    "        subsample = trial.suggest_float('subsample', 0.0, 1.0)\n",
    "        max_features = trial.suggest_categorical('max_features', ['sqrt', 'log2'])\n",
    "        criterion = trial.suggest_categorical('criterion', ['friedman_mse', 'squared_error'])\n",
    "        # n_iter_no_change = trial.suggest_int('n_iter_no_change', 1, 100)\n",
    "\n",
    "        model = GradientBoostingClassifier(\n",
    "            learning_rate=learning_rate,\n",
    "            n_estimators=n_estimators,\n",
    "            subsample=subsample,\n",
    "            criterion=criterion,\n",
    "            min_samples_split=min_samples_split,\n",
    "            min_samples_leaf=min_samples_leaf,\n",
    "            max_depth=max_depth,\n",
    "            # n_iter_no_change=n_iter_no_change,\n",
    "            random_state=42\n",
    "        )\n",
    "\n",
    "    model_pipeline = Pipeline(steps=[\n",
    "        ('preprocessor', preprocessor),   # Ensure this step is correctly defined\n",
    "        ('classifier', model)\n",
    "    ])\n",
    "\n",
    "    # Use error_score='raise' to debug errors during cross-validation\n",
    "    try:\n",
    "        score = cross_val_score(model_pipeline, X_train, y_dowry_train, cv=3, scoring='accuracy', error_score='raise').mean()\n",
    "    except ValueError as e:\n",
    "        print(f\"Error during cross-validation: {e}\")\n",
    "        raise  # Re-raise the error for debugging purposes\n",
    "\n",
    "    return score\n"
   ]
  },
  {
   "cell_type": "code",
   "execution_count": null,
   "metadata": {},
   "outputs": [],
   "source": [
    "# Create a study and optimize it using CmaEsSampler\n",
    "study = optuna.create_study(direction='maximize')\n",
    "study.optimize(objective, n_trials=500)"
   ]
  },
  {
   "cell_type": "code",
   "execution_count": null,
   "metadata": {},
   "outputs": [],
   "source": [
    "# Retrieve the best trial\n",
    "best_trial = study.best_trial\n",
    "print(\"Best trial parameters:\", best_trial.params)\n",
    "print(\"Best trial accuracy:\", best_trial.value)"
   ]
  },
  {
   "cell_type": "code",
   "execution_count": null,
   "metadata": {},
   "outputs": [],
   "source": [
    "study.trials_dataframe()['params_classifier'].value_counts()"
   ]
  },
  {
   "cell_type": "code",
   "execution_count": null,
   "metadata": {},
   "outputs": [],
   "source": []
  },
  {
   "cell_type": "code",
   "execution_count": null,
   "metadata": {},
   "outputs": [],
   "source": []
  },
  {
   "cell_type": "code",
   "execution_count": null,
   "metadata": {},
   "outputs": [],
   "source": []
  }
 ],
 "metadata": {
  "kernelspec": {
   "display_name": ".venv",
   "language": "python",
   "name": "python3"
  },
  "language_info": {
   "codemirror_mode": {
    "name": "ipython",
    "version": 3
   },
   "file_extension": ".py",
   "mimetype": "text/x-python",
   "name": "python",
   "nbconvert_exporter": "python",
   "pygments_lexer": "ipython3",
   "version": "3.11.9"
  }
 },
 "nbformat": 4,
 "nbformat_minor": 2
}

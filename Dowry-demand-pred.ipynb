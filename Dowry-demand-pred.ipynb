{
 "cells": [
  {
   "cell_type": "code",
   "execution_count": 1,
   "metadata": {},
   "outputs": [],
   "source": [
    "import os\n",
    "import numpy as np\n",
    "import pandas as pd\n",
    "import matplotlib.pyplot as plt\n",
    "%matplotlib inline\n",
    "import seaborn as sns\n",
    "import warnings\n",
    "warnings.filterwarnings(\"ignore\")"
   ]
  },
  {
   "cell_type": "code",
   "execution_count": 2,
   "metadata": {},
   "outputs": [],
   "source": [
    "#Data collection and preprossesing \n",
    "data0 = pd.read_excel(\"Dataset/data0.xlsx\")\n",
    "data1 = pd.read_excel(\"Dataset/data1.xlsx\")\n",
    "data2 = pd.read_excel(\"Dataset/data2.xlsx\")\n",
    "data3 = pd.read_excel(\"Dataset/data3.xlsx\")\n",
    "data4 = pd.read_excel(\"Dataset/data4.xlsx\")\n",
    "data5 = pd.read_excel(\"Dataset/data5.xlsx\")\n",
    "data6 = pd.read_excel(\"Dataset/data6.xlsx\")\n",
    "data7 = pd.read_excel(\"Dataset/data7.xlsx\")"
   ]
  },
  {
   "cell_type": "code",
   "execution_count": 3,
   "metadata": {},
   "outputs": [
    {
     "data": {
      "text/html": [
       "<div>\n",
       "<style scoped>\n",
       "    .dataframe tbody tr th:only-of-type {\n",
       "        vertical-align: middle;\n",
       "    }\n",
       "\n",
       "    .dataframe tbody tr th {\n",
       "        vertical-align: top;\n",
       "    }\n",
       "\n",
       "    .dataframe thead th {\n",
       "        text-align: right;\n",
       "    }\n",
       "</style>\n",
       "<table border=\"1\" class=\"dataframe\">\n",
       "  <thead>\n",
       "    <tr style=\"text-align: right;\">\n",
       "      <th></th>\n",
       "      <th>year</th>\n",
       "      <th>women's age</th>\n",
       "      <th>men's age</th>\n",
       "      <th>family type</th>\n",
       "      <th>area</th>\n",
       "      <th>girl's job</th>\n",
       "      <th>boy's job</th>\n",
       "      <th>marry condition</th>\n",
       "      <th>women married/unmarried</th>\n",
       "      <th>mohor</th>\n",
       "      <th>dowry</th>\n",
       "    </tr>\n",
       "  </thead>\n",
       "  <tbody>\n",
       "    <tr>\n",
       "      <th>0</th>\n",
       "      <td>2013</td>\n",
       "      <td>19</td>\n",
       "      <td>30</td>\n",
       "      <td>rich class</td>\n",
       "      <td>chuadanga</td>\n",
       "      <td>day Labour</td>\n",
       "      <td>businessman</td>\n",
       "      <td>Forced Marriage</td>\n",
       "      <td>Single</td>\n",
       "      <td>387000</td>\n",
       "      <td>Furniture</td>\n",
       "    </tr>\n",
       "    <tr>\n",
       "      <th>1</th>\n",
       "      <td>2014</td>\n",
       "      <td>22</td>\n",
       "      <td>40</td>\n",
       "      <td>rich class</td>\n",
       "      <td>Jashore</td>\n",
       "      <td>businessman</td>\n",
       "      <td>businessman</td>\n",
       "      <td>Irrelevant Marriage</td>\n",
       "      <td>Single</td>\n",
       "      <td>391500</td>\n",
       "      <td>Land</td>\n",
       "    </tr>\n",
       "    <tr>\n",
       "      <th>2</th>\n",
       "      <td>2013</td>\n",
       "      <td>16</td>\n",
       "      <td>25</td>\n",
       "      <td>rich class</td>\n",
       "      <td>Jhenaidah</td>\n",
       "      <td>day Labour</td>\n",
       "      <td>Service holder</td>\n",
       "      <td>Forced Marriage</td>\n",
       "      <td>Single</td>\n",
       "      <td>364500</td>\n",
       "      <td>car</td>\n",
       "    </tr>\n",
       "    <tr>\n",
       "      <th>3</th>\n",
       "      <td>2014</td>\n",
       "      <td>22</td>\n",
       "      <td>34</td>\n",
       "      <td>higher class</td>\n",
       "      <td>Khulna</td>\n",
       "      <td>businessman</td>\n",
       "      <td>businessman</td>\n",
       "      <td>arrange Marriage</td>\n",
       "      <td>Single</td>\n",
       "      <td>214200</td>\n",
       "      <td>456000</td>\n",
       "    </tr>\n",
       "    <tr>\n",
       "      <th>4</th>\n",
       "      <td>2017</td>\n",
       "      <td>18</td>\n",
       "      <td>29</td>\n",
       "      <td>rich class</td>\n",
       "      <td>bagerhat</td>\n",
       "      <td>businessman</td>\n",
       "      <td>Service holder</td>\n",
       "      <td>Forced Marriage</td>\n",
       "      <td>Single</td>\n",
       "      <td>423000</td>\n",
       "      <td>home</td>\n",
       "    </tr>\n",
       "  </tbody>\n",
       "</table>\n",
       "</div>"
      ],
      "text/plain": [
       "   year  women's age  men's age   family type        area   girl's job  \\\n",
       "0  2013           19         30    rich class  chuadanga    day Labour   \n",
       "1  2014           22         40    rich class    Jashore   businessman   \n",
       "2  2013           16         25    rich class  Jhenaidah    day Labour   \n",
       "3  2014           22         34  higher class     Khulna   businessman   \n",
       "4  2017           18         29    rich class   bagerhat   businessman   \n",
       "\n",
       "        boy's job      marry condition women married/unmarried   mohor  \\\n",
       "0     businessman      Forced Marriage                  Single  387000   \n",
       "1     businessman  Irrelevant Marriage                  Single  391500   \n",
       "2  Service holder      Forced Marriage                  Single  364500   \n",
       "3     businessman     arrange Marriage                  Single  214200   \n",
       "4  Service holder      Forced Marriage                  Single  423000   \n",
       "\n",
       "       dowry  \n",
       "0  Furniture  \n",
       "1       Land  \n",
       "2        car  \n",
       "3     456000  \n",
       "4       home  "
      ]
     },
     "execution_count": 3,
     "metadata": {},
     "output_type": "execute_result"
    }
   ],
   "source": [
    "data0.head()"
   ]
  },
  {
   "cell_type": "code",
   "execution_count": 4,
   "metadata": {},
   "outputs": [],
   "source": [
    "#create a function to get all columns from each xlsx file.\n",
    "def get_column_names(file_path):\n",
    "    \"\"\"Helper function to read column names from an Excel file.\"\"\"\n",
    "    try:\n",
    "        df = pd.read_excel(file_path, nrows=0)  # Read only the header (column names)\n",
    "        return df.columns.tolist()\n",
    "    except Exception as e:\n",
    "        print(f\"Error reading {file_path}: {e}\")\n",
    "        return None"
   ]
  },
  {
   "cell_type": "code",
   "execution_count": 5,
   "metadata": {},
   "outputs": [],
   "source": [
    "#create a function to compare all columns from each xlsx file.\n",
    "def check_xlsx_columns(directory):\n",
    "    \"\"\"Function to compare column names of all xlsx files in the given directory.\"\"\"\n",
    "    column_names = None\n",
    "    first_file = None\n",
    "    \n",
    "    # Loop through all files in the directory\n",
    "    for file in os.listdir(directory):\n",
    "        if file.endswith(\".xlsx\"):\n",
    "            file_path = os.path.join(directory, file)\n",
    "            current_columns = get_column_names(file_path)\n",
    "            \n",
    "            if current_columns is None:\n",
    "                return False  # If there was an error reading the file\n",
    "            \n",
    "            # If this is the first file, set the column names\n",
    "            if column_names is None:\n",
    "                column_names = current_columns\n",
    "                first_file = file\n",
    "            else:\n",
    "                # Compare the current file's columns to the first file's columns\n",
    "                if column_names != current_columns:\n",
    "                    print(f\"Column mismatch between {first_file} and {file}\")\n",
    "                    return False\n",
    "    \n",
    "    return True"
   ]
  },
  {
   "cell_type": "code",
   "execution_count": 6,
   "metadata": {},
   "outputs": [
    {
     "name": "stdout",
     "output_type": "stream",
     "text": [
      "All files have identical column names.\n"
     ]
    }
   ],
   "source": [
    "directory = r\"D:\\\\ML projects\\\\Dowry-Data-Bangladesh\\\\Dataset\\\\\"\n",
    "result = check_xlsx_columns(directory)\n",
    "if result:\n",
    "    print(\"All files have identical column names.\")\n",
    "else:\n",
    "    print(\"Files have different column names.\")"
   ]
  },
  {
   "cell_type": "code",
   "execution_count": 7,
   "metadata": {},
   "outputs": [],
   "source": [
    "def concat_xlsx_files(directory, output_file):\n",
    "    \"\"\"Function to concatenate all xlsx files in a directory into one file.\"\"\"\n",
    "    dfs = []\n",
    "    \n",
    "    # Loop through all files in the directory\n",
    "    for file in os.listdir(directory):\n",
    "        if file.endswith(\".xlsx\"):\n",
    "            file_path = os.path.join(directory, file)\n",
    "            \n",
    "            try:\n",
    "                # Read the Excel file into a DataFrame\n",
    "                df = pd.read_excel(file_path)\n",
    "                dfs.append(df)\n",
    "                print(f\"Loaded {file} successfully.\")\n",
    "            except Exception as e:\n",
    "                print(f\"Error reading {file_path}: {e}\")\n",
    "                return False\n",
    "\n",
    "    # Concatenate all DataFrames\n",
    "    if dfs:\n",
    "        final_df = pd.concat(dfs, ignore_index=True)\n",
    "        \n",
    "        # Save the concatenated DataFrame to an Excel file\n",
    "        try:\n",
    "            final_df.to_excel(output_file, index=False)\n",
    "            print(f\"Successfully saved concatenated file to {output_file}.\")\n",
    "            return True\n",
    "        except Exception as e:\n",
    "            print(f\"Error saving to {output_file}: {e}\")\n",
    "            return False\n",
    "    else:\n",
    "        print(\"No data to concatenate.\")\n",
    "        return False"
   ]
  },
  {
   "cell_type": "code",
   "execution_count": 8,
   "metadata": {},
   "outputs": [
    {
     "name": "stdout",
     "output_type": "stream",
     "text": [
      "Loaded data0.xlsx successfully.\n",
      "Loaded data1.xlsx successfully.\n",
      "Loaded data2.xlsx successfully.\n",
      "Loaded data3.xlsx successfully.\n",
      "Loaded data4.xlsx successfully.\n",
      "Loaded data5.xlsx successfully.\n",
      "Loaded data6.xlsx successfully.\n",
      "Loaded data7.xlsx successfully.\n",
      "Successfully saved concatenated file to Dowry-Data-Bangladesh.xlsx.\n"
     ]
    },
    {
     "data": {
      "text/plain": [
       "True"
      ]
     },
     "execution_count": 8,
     "metadata": {},
     "output_type": "execute_result"
    }
   ],
   "source": [
    "output_file = \"Dowry-Data-Bangladesh.xlsx\"\n",
    "concat_xlsx_files(directory, output_file)"
   ]
  },
  {
   "cell_type": "code",
   "execution_count": 63,
   "metadata": {},
   "outputs": [],
   "source": [
    "data = pd.read_excel(\"Dowry-Data-Bangladesh.xlsx\",parse_dates=[\"year\"])"
   ]
  },
  {
   "cell_type": "code",
   "execution_count": 64,
   "metadata": {},
   "outputs": [
    {
     "data": {
      "text/html": [
       "<div>\n",
       "<style scoped>\n",
       "    .dataframe tbody tr th:only-of-type {\n",
       "        vertical-align: middle;\n",
       "    }\n",
       "\n",
       "    .dataframe tbody tr th {\n",
       "        vertical-align: top;\n",
       "    }\n",
       "\n",
       "    .dataframe thead th {\n",
       "        text-align: right;\n",
       "    }\n",
       "</style>\n",
       "<table border=\"1\" class=\"dataframe\">\n",
       "  <thead>\n",
       "    <tr style=\"text-align: right;\">\n",
       "      <th></th>\n",
       "      <th>year</th>\n",
       "      <th>women's age</th>\n",
       "      <th>men's age</th>\n",
       "      <th>family type</th>\n",
       "      <th>area</th>\n",
       "      <th>girl's job</th>\n",
       "      <th>boy's job</th>\n",
       "      <th>marry condition</th>\n",
       "      <th>women married/unmarried</th>\n",
       "      <th>mohor</th>\n",
       "      <th>dowry</th>\n",
       "    </tr>\n",
       "  </thead>\n",
       "  <tbody>\n",
       "    <tr>\n",
       "      <th>0</th>\n",
       "      <td>2013-01-01</td>\n",
       "      <td>19</td>\n",
       "      <td>30</td>\n",
       "      <td>rich class</td>\n",
       "      <td>chuadanga</td>\n",
       "      <td>day Labour</td>\n",
       "      <td>businessman</td>\n",
       "      <td>Forced Marriage</td>\n",
       "      <td>Single</td>\n",
       "      <td>387000</td>\n",
       "      <td>Furniture</td>\n",
       "    </tr>\n",
       "    <tr>\n",
       "      <th>1</th>\n",
       "      <td>2014-01-01</td>\n",
       "      <td>22</td>\n",
       "      <td>40</td>\n",
       "      <td>rich class</td>\n",
       "      <td>Jashore</td>\n",
       "      <td>businessman</td>\n",
       "      <td>businessman</td>\n",
       "      <td>Irrelevant Marriage</td>\n",
       "      <td>Single</td>\n",
       "      <td>391500</td>\n",
       "      <td>Land</td>\n",
       "    </tr>\n",
       "    <tr>\n",
       "      <th>2</th>\n",
       "      <td>2013-01-01</td>\n",
       "      <td>16</td>\n",
       "      <td>25</td>\n",
       "      <td>rich class</td>\n",
       "      <td>Jhenaidah</td>\n",
       "      <td>day Labour</td>\n",
       "      <td>Service holder</td>\n",
       "      <td>Forced Marriage</td>\n",
       "      <td>Single</td>\n",
       "      <td>364500</td>\n",
       "      <td>car</td>\n",
       "    </tr>\n",
       "    <tr>\n",
       "      <th>3</th>\n",
       "      <td>2014-01-01</td>\n",
       "      <td>22</td>\n",
       "      <td>34</td>\n",
       "      <td>higher class</td>\n",
       "      <td>Khulna</td>\n",
       "      <td>businessman</td>\n",
       "      <td>businessman</td>\n",
       "      <td>arrange Marriage</td>\n",
       "      <td>Single</td>\n",
       "      <td>214200</td>\n",
       "      <td>456000</td>\n",
       "    </tr>\n",
       "    <tr>\n",
       "      <th>4</th>\n",
       "      <td>2017-01-01</td>\n",
       "      <td>18</td>\n",
       "      <td>29</td>\n",
       "      <td>rich class</td>\n",
       "      <td>bagerhat</td>\n",
       "      <td>businessman</td>\n",
       "      <td>Service holder</td>\n",
       "      <td>Forced Marriage</td>\n",
       "      <td>Single</td>\n",
       "      <td>423000</td>\n",
       "      <td>home</td>\n",
       "    </tr>\n",
       "  </tbody>\n",
       "</table>\n",
       "</div>"
      ],
      "text/plain": [
       "        year  women's age  men's age   family type        area   girl's job  \\\n",
       "0 2013-01-01           19         30    rich class  chuadanga    day Labour   \n",
       "1 2014-01-01           22         40    rich class    Jashore   businessman   \n",
       "2 2013-01-01           16         25    rich class  Jhenaidah    day Labour   \n",
       "3 2014-01-01           22         34  higher class     Khulna   businessman   \n",
       "4 2017-01-01           18         29    rich class   bagerhat   businessman   \n",
       "\n",
       "        boy's job      marry condition women married/unmarried   mohor  \\\n",
       "0     businessman      Forced Marriage                  Single  387000   \n",
       "1     businessman  Irrelevant Marriage                  Single  391500   \n",
       "2  Service holder      Forced Marriage                  Single  364500   \n",
       "3     businessman     arrange Marriage                  Single  214200   \n",
       "4  Service holder      Forced Marriage                  Single  423000   \n",
       "\n",
       "       dowry  \n",
       "0  Furniture  \n",
       "1       Land  \n",
       "2        car  \n",
       "3     456000  \n",
       "4       home  "
      ]
     },
     "execution_count": 64,
     "metadata": {},
     "output_type": "execute_result"
    }
   ],
   "source": [
    "data.head()"
   ]
  },
  {
   "cell_type": "code",
   "execution_count": 65,
   "metadata": {},
   "outputs": [
    {
     "name": "stdout",
     "output_type": "stream",
     "text": [
      "<class 'pandas.core.frame.DataFrame'>\n",
      "RangeIndex: 2433 entries, 0 to 2432\n",
      "Data columns (total 11 columns):\n",
      " #   Column                   Non-Null Count  Dtype         \n",
      "---  ------                   --------------  -----         \n",
      " 0   year                     2433 non-null   datetime64[ns]\n",
      " 1   women's age              2433 non-null   int64         \n",
      " 2   men's age                2433 non-null   int64         \n",
      " 3   family type              2433 non-null   object        \n",
      " 4   area                     2433 non-null   object        \n",
      " 5   girl's job               2433 non-null   object        \n",
      " 6   boy's job                2433 non-null   object        \n",
      " 7   marry condition          2433 non-null   object        \n",
      " 8   women married/unmarried  2433 non-null   object        \n",
      " 9   mohor                    2433 non-null   int64         \n",
      " 10  dowry                    2433 non-null   object        \n",
      "dtypes: datetime64[ns](1), int64(3), object(7)\n",
      "memory usage: 209.2+ KB\n"
     ]
    }
   ],
   "source": [
    "data.info()"
   ]
  },
  {
   "cell_type": "code",
   "execution_count": 66,
   "metadata": {},
   "outputs": [
    {
     "data": {
      "text/plain": [
       "(2433, 11)"
      ]
     },
     "execution_count": 66,
     "metadata": {},
     "output_type": "execute_result"
    }
   ],
   "source": [
    "data.shape"
   ]
  },
  {
   "cell_type": "code",
   "execution_count": 67,
   "metadata": {},
   "outputs": [],
   "source": [
    "data.sort_values(by=\"year\",inplace=True,ignore_index=True)"
   ]
  },
  {
   "cell_type": "code",
   "execution_count": 68,
   "metadata": {},
   "outputs": [
    {
     "data": {
      "text/html": [
       "<div>\n",
       "<style scoped>\n",
       "    .dataframe tbody tr th:only-of-type {\n",
       "        vertical-align: middle;\n",
       "    }\n",
       "\n",
       "    .dataframe tbody tr th {\n",
       "        vertical-align: top;\n",
       "    }\n",
       "\n",
       "    .dataframe thead th {\n",
       "        text-align: right;\n",
       "    }\n",
       "</style>\n",
       "<table border=\"1\" class=\"dataframe\">\n",
       "  <thead>\n",
       "    <tr style=\"text-align: right;\">\n",
       "      <th></th>\n",
       "      <th>year</th>\n",
       "      <th>women's age</th>\n",
       "      <th>men's age</th>\n",
       "      <th>family type</th>\n",
       "      <th>area</th>\n",
       "      <th>girl's job</th>\n",
       "      <th>boy's job</th>\n",
       "      <th>marry condition</th>\n",
       "      <th>women married/unmarried</th>\n",
       "      <th>mohor</th>\n",
       "      <th>dowry</th>\n",
       "    </tr>\n",
       "  </thead>\n",
       "  <tbody>\n",
       "    <tr>\n",
       "      <th>0</th>\n",
       "      <td>2013-01-01</td>\n",
       "      <td>19</td>\n",
       "      <td>30</td>\n",
       "      <td>rich class</td>\n",
       "      <td>chuadanga</td>\n",
       "      <td>day Labour</td>\n",
       "      <td>businessman</td>\n",
       "      <td>Forced Marriage</td>\n",
       "      <td>Single</td>\n",
       "      <td>387000</td>\n",
       "      <td>Furniture</td>\n",
       "    </tr>\n",
       "    <tr>\n",
       "      <th>1</th>\n",
       "      <td>2013-01-01</td>\n",
       "      <td>21</td>\n",
       "      <td>33</td>\n",
       "      <td>rich class</td>\n",
       "      <td>naogaon</td>\n",
       "      <td>businessman</td>\n",
       "      <td>service holder</td>\n",
       "      <td>arrange marriage</td>\n",
       "      <td>single</td>\n",
       "      <td>364500</td>\n",
       "      <td>furniture</td>\n",
       "    </tr>\n",
       "    <tr>\n",
       "      <th>2</th>\n",
       "      <td>2013-01-01</td>\n",
       "      <td>18</td>\n",
       "      <td>32</td>\n",
       "      <td>Higher Class</td>\n",
       "      <td>Jhalokati</td>\n",
       "      <td>Service Holder</td>\n",
       "      <td>Businessman</td>\n",
       "      <td>Irrelevant Marriage</td>\n",
       "      <td>Single</td>\n",
       "      <td>231000</td>\n",
       "      <td>No Property</td>\n",
       "    </tr>\n",
       "    <tr>\n",
       "      <th>3</th>\n",
       "      <td>2013-01-01</td>\n",
       "      <td>22</td>\n",
       "      <td>36</td>\n",
       "      <td>Higher Middle Class</td>\n",
       "      <td>Pirojpur</td>\n",
       "      <td>Entrepreneur</td>\n",
       "      <td>Businessman</td>\n",
       "      <td>Irrelevant Marriage</td>\n",
       "      <td>Single</td>\n",
       "      <td>252000</td>\n",
       "      <td>Furniture</td>\n",
       "    </tr>\n",
       "    <tr>\n",
       "      <th>4</th>\n",
       "      <td>2013-01-01</td>\n",
       "      <td>19</td>\n",
       "      <td>36</td>\n",
       "      <td>rich class</td>\n",
       "      <td>naogaon</td>\n",
       "      <td>businessman</td>\n",
       "      <td>businessman</td>\n",
       "      <td>irrelevant marriage</td>\n",
       "      <td>single</td>\n",
       "      <td>387000</td>\n",
       "      <td>furniture</td>\n",
       "    </tr>\n",
       "  </tbody>\n",
       "</table>\n",
       "</div>"
      ],
      "text/plain": [
       "        year  women's age  men's age          family type        area  \\\n",
       "0 2013-01-01           19         30           rich class  chuadanga    \n",
       "1 2013-01-01           21         33           rich class    naogaon    \n",
       "2 2013-01-01           18         32         Higher Class  Jhalokati    \n",
       "3 2013-01-01           22         36  Higher Middle Class   Pirojpur    \n",
       "4 2013-01-01           19         36           rich class    naogaon    \n",
       "\n",
       "       girl's job       boy's job      marry condition  \\\n",
       "0      day Labour     businessman      Forced Marriage   \n",
       "1     businessman  service holder     arrange marriage   \n",
       "2  Service Holder     Businessman  Irrelevant Marriage   \n",
       "3    Entrepreneur     Businessman  Irrelevant Marriage   \n",
       "4     businessman     businessman  irrelevant marriage   \n",
       "\n",
       "  women married/unmarried   mohor        dowry  \n",
       "0                  Single  387000    Furniture  \n",
       "1                  single  364500    furniture  \n",
       "2                  Single  231000  No Property  \n",
       "3                  Single  252000    Furniture  \n",
       "4                  single  387000    furniture  "
      ]
     },
     "execution_count": 68,
     "metadata": {},
     "output_type": "execute_result"
    }
   ],
   "source": [
    "data.head()"
   ]
  },
  {
   "cell_type": "code",
   "execution_count": 69,
   "metadata": {},
   "outputs": [
    {
     "data": {
      "text/html": [
       "<div>\n",
       "<style scoped>\n",
       "    .dataframe tbody tr th:only-of-type {\n",
       "        vertical-align: middle;\n",
       "    }\n",
       "\n",
       "    .dataframe tbody tr th {\n",
       "        vertical-align: top;\n",
       "    }\n",
       "\n",
       "    .dataframe thead th {\n",
       "        text-align: right;\n",
       "    }\n",
       "</style>\n",
       "<table border=\"1\" class=\"dataframe\">\n",
       "  <thead>\n",
       "    <tr style=\"text-align: right;\">\n",
       "      <th></th>\n",
       "      <th>year</th>\n",
       "      <th>women's age</th>\n",
       "      <th>men's age</th>\n",
       "      <th>family type</th>\n",
       "      <th>area</th>\n",
       "      <th>girl's job</th>\n",
       "      <th>boy's job</th>\n",
       "      <th>marry condition</th>\n",
       "      <th>women married/unmarried</th>\n",
       "      <th>mohor</th>\n",
       "      <th>dowry</th>\n",
       "    </tr>\n",
       "  </thead>\n",
       "  <tbody>\n",
       "    <tr>\n",
       "      <th>2428</th>\n",
       "      <td>2018-01-01</td>\n",
       "      <td>21</td>\n",
       "      <td>27</td>\n",
       "      <td>higher class</td>\n",
       "      <td>Netrokona</td>\n",
       "      <td>Entrepreneur</td>\n",
       "      <td>Entrepreneur</td>\n",
       "      <td>arrange marriage</td>\n",
       "      <td>Single</td>\n",
       "      <td>696000</td>\n",
       "      <td>702000</td>\n",
       "    </tr>\n",
       "    <tr>\n",
       "      <th>2429</th>\n",
       "      <td>2018-01-01</td>\n",
       "      <td>19</td>\n",
       "      <td>29</td>\n",
       "      <td>lower middle class</td>\n",
       "      <td>Netrokona</td>\n",
       "      <td>businessman</td>\n",
       "      <td>farmer</td>\n",
       "      <td>arrange marriage</td>\n",
       "      <td>Single</td>\n",
       "      <td>352000</td>\n",
       "      <td>551600</td>\n",
       "    </tr>\n",
       "    <tr>\n",
       "      <th>2430</th>\n",
       "      <td>2018-01-01</td>\n",
       "      <td>21</td>\n",
       "      <td>36</td>\n",
       "      <td>rich class</td>\n",
       "      <td>Sherpur</td>\n",
       "      <td>businessman</td>\n",
       "      <td>Service holder</td>\n",
       "      <td>Irrelevant marriage</td>\n",
       "      <td>Single</td>\n",
       "      <td>1044000</td>\n",
       "      <td>aurnaments</td>\n",
       "    </tr>\n",
       "    <tr>\n",
       "      <th>2431</th>\n",
       "      <td>2018-01-01</td>\n",
       "      <td>20</td>\n",
       "      <td>36</td>\n",
       "      <td>higher middle class</td>\n",
       "      <td>Sherpur</td>\n",
       "      <td>Service holder</td>\n",
       "      <td>Entrepreneur</td>\n",
       "      <td>Irrelevant marriage</td>\n",
       "      <td>Single</td>\n",
       "      <td>624000</td>\n",
       "      <td>aurnaments</td>\n",
       "    </tr>\n",
       "    <tr>\n",
       "      <th>2432</th>\n",
       "      <td>2018-01-01</td>\n",
       "      <td>25</td>\n",
       "      <td>42</td>\n",
       "      <td>rich class</td>\n",
       "      <td>habiganj</td>\n",
       "      <td>service holder</td>\n",
       "      <td>entrepreneur</td>\n",
       "      <td>Irrelevant marriage</td>\n",
       "      <td>Widow</td>\n",
       "      <td>1470000</td>\n",
       "      <td>furniture</td>\n",
       "    </tr>\n",
       "  </tbody>\n",
       "</table>\n",
       "</div>"
      ],
      "text/plain": [
       "           year  women's age  men's age          family type        area  \\\n",
       "2428 2018-01-01           21         27         higher class  Netrokona    \n",
       "2429 2018-01-01           19         29   lower middle class  Netrokona    \n",
       "2430 2018-01-01           21         36           rich class    Sherpur    \n",
       "2431 2018-01-01           20         36  higher middle class    Sherpur    \n",
       "2432 2018-01-01           25         42           rich class   habiganj    \n",
       "\n",
       "          girl's job       boy's job      marry condition  \\\n",
       "2428    Entrepreneur    Entrepreneur     arrange marriage   \n",
       "2429     businessman          farmer     arrange marriage   \n",
       "2430     businessman  Service holder  Irrelevant marriage   \n",
       "2431  Service holder    Entrepreneur  Irrelevant marriage   \n",
       "2432  service holder    entrepreneur  Irrelevant marriage   \n",
       "\n",
       "     women married/unmarried    mohor       dowry  \n",
       "2428                  Single   696000      702000  \n",
       "2429                  Single   352000      551600  \n",
       "2430                  Single  1044000  aurnaments  \n",
       "2431                  Single   624000  aurnaments  \n",
       "2432                   Widow  1470000   furniture  "
      ]
     },
     "execution_count": 69,
     "metadata": {},
     "output_type": "execute_result"
    }
   ],
   "source": [
    "data.tail()"
   ]
  },
  {
   "cell_type": "code",
   "execution_count": 70,
   "metadata": {},
   "outputs": [],
   "source": [
    "#deleting duplicates values if present.\n",
    "data.drop_duplicates(inplace=True)"
   ]
  },
  {
   "cell_type": "code",
   "execution_count": 71,
   "metadata": {},
   "outputs": [
    {
     "data": {
      "text/plain": [
       "year                       0\n",
       "women's age                0\n",
       "men's age                  0\n",
       "family type                0\n",
       "area                       0\n",
       "girl's job                 0\n",
       "boy's job                  0\n",
       "marry condition            0\n",
       "women married/unmarried    0\n",
       "mohor                      0\n",
       "dowry                      0\n",
       "dtype: int64"
      ]
     },
     "execution_count": 71,
     "metadata": {},
     "output_type": "execute_result"
    }
   ],
   "source": [
    "data.isnull().sum()"
   ]
  },
  {
   "cell_type": "code",
   "execution_count": 72,
   "metadata": {},
   "outputs": [
    {
     "data": {
      "text/html": [
       "<div>\n",
       "<style scoped>\n",
       "    .dataframe tbody tr th:only-of-type {\n",
       "        vertical-align: middle;\n",
       "    }\n",
       "\n",
       "    .dataframe tbody tr th {\n",
       "        vertical-align: top;\n",
       "    }\n",
       "\n",
       "    .dataframe thead th {\n",
       "        text-align: right;\n",
       "    }\n",
       "</style>\n",
       "<table border=\"1\" class=\"dataframe\">\n",
       "  <thead>\n",
       "    <tr style=\"text-align: right;\">\n",
       "      <th></th>\n",
       "      <th>year</th>\n",
       "      <th>women's age</th>\n",
       "      <th>men's age</th>\n",
       "      <th>mohor</th>\n",
       "    </tr>\n",
       "  </thead>\n",
       "  <tbody>\n",
       "    <tr>\n",
       "      <th>count</th>\n",
       "      <td>2433</td>\n",
       "      <td>2433.000000</td>\n",
       "      <td>2433.000000</td>\n",
       "      <td>2.433000e+03</td>\n",
       "    </tr>\n",
       "    <tr>\n",
       "      <th>mean</th>\n",
       "      <td>2016-01-20 03:24:11.541306880</td>\n",
       "      <td>20.439786</td>\n",
       "      <td>32.376079</td>\n",
       "      <td>4.362927e+05</td>\n",
       "    </tr>\n",
       "    <tr>\n",
       "      <th>min</th>\n",
       "      <td>2013-01-01 00:00:00</td>\n",
       "      <td>16.000000</td>\n",
       "      <td>25.000000</td>\n",
       "      <td>4.000000e+04</td>\n",
       "    </tr>\n",
       "    <tr>\n",
       "      <th>25%</th>\n",
       "      <td>2015-01-01 00:00:00</td>\n",
       "      <td>18.000000</td>\n",
       "      <td>29.000000</td>\n",
       "      <td>2.310000e+05</td>\n",
       "    </tr>\n",
       "    <tr>\n",
       "      <th>50%</th>\n",
       "      <td>2017-01-01 00:00:00</td>\n",
       "      <td>20.000000</td>\n",
       "      <td>32.000000</td>\n",
       "      <td>3.690000e+05</td>\n",
       "    </tr>\n",
       "    <tr>\n",
       "      <th>75%</th>\n",
       "      <td>2017-01-01 00:00:00</td>\n",
       "      <td>22.000000</td>\n",
       "      <td>36.000000</td>\n",
       "      <td>5.500000e+05</td>\n",
       "    </tr>\n",
       "    <tr>\n",
       "      <th>max</th>\n",
       "      <td>2018-01-01 00:00:00</td>\n",
       "      <td>25.000000</td>\n",
       "      <td>42.000000</td>\n",
       "      <td>1.485000e+06</td>\n",
       "    </tr>\n",
       "    <tr>\n",
       "      <th>std</th>\n",
       "      <td>NaN</td>\n",
       "      <td>2.463836</td>\n",
       "      <td>4.830128</td>\n",
       "      <td>3.185015e+05</td>\n",
       "    </tr>\n",
       "  </tbody>\n",
       "</table>\n",
       "</div>"
      ],
      "text/plain": [
       "                                year  women's age    men's age         mohor\n",
       "count                           2433  2433.000000  2433.000000  2.433000e+03\n",
       "mean   2016-01-20 03:24:11.541306880    20.439786    32.376079  4.362927e+05\n",
       "min              2013-01-01 00:00:00    16.000000    25.000000  4.000000e+04\n",
       "25%              2015-01-01 00:00:00    18.000000    29.000000  2.310000e+05\n",
       "50%              2017-01-01 00:00:00    20.000000    32.000000  3.690000e+05\n",
       "75%              2017-01-01 00:00:00    22.000000    36.000000  5.500000e+05\n",
       "max              2018-01-01 00:00:00    25.000000    42.000000  1.485000e+06\n",
       "std                              NaN     2.463836     4.830128  3.185015e+05"
      ]
     },
     "execution_count": 72,
     "metadata": {},
     "output_type": "execute_result"
    }
   ],
   "source": [
    "#stats of data\n",
    "data.describe()"
   ]
  },
  {
   "cell_type": "markdown",
   "metadata": {},
   "source": [
    "**women's age-**<br>\n",
    "    **- Average age of marriage : 20**<br>\n",
    "    **- Minimum age of marriage : 16**<br>\n",
    "    **- Maximum age of marriage : 25**<br>\n",
    "\n",
    "**men's age-**<br>\n",
    "    **- Average age of marriage : 32**<br>\n",
    "    **- Minimum age of marriage : 25**<br>\n",
    "    **- Maximum age of marriage : 42**<br>"
   ]
  },
  {
   "cell_type": "code",
   "execution_count": 73,
   "metadata": {},
   "outputs": [],
   "source": [
    "#function to create countplots with percentage of values \n",
    "def countplot(data,column):\n",
    "    ax = sns.countplot(x=column,data=data,palette='colorblind',hue=column,legend=False)\n",
    "    # get the total count of the women's age column\n",
    "    total = data[column].count()\n",
    "\n",
    "    # annotate the bars with fmt from matplotlib v3.7.0\n",
    "    for c in ax.containers:\n",
    "        ax.bar_label(c, fmt=lambda x: f'{(x/total)*100:0.1f}%')\n",
    "    plt.tight_layout()\n",
    "    plt.show()"
   ]
  },
  {
   "cell_type": "code",
   "execution_count": 74,
   "metadata": {},
   "outputs": [
    {
     "data": {
      "image/png": "[encoded data removed]",
      "text/plain": [
       "<Figure size 640x480 with 1 Axes>"
      ]
     },
     "metadata": {},
     "output_type": "display_data"
    }
   ],
   "source": [
    "countplot(data,\"women's age\")"
   ]
  },
  {
   "cell_type": "code",
   "execution_count": 75,
   "metadata": {},
   "outputs": [
    {
     "data": {
      "image/png": "[encoded data removed]",
      "text/plain": [
       "<Figure size 800x600 with 1 Axes>"
      ]
     },
     "metadata": {},
     "output_type": "display_data"
    }
   ],
   "source": [
    "plt.figure(figsize=(8,6))\n",
    "countplot(data,\"men's age\")"
   ]
  },
  {
   "cell_type": "code",
   "execution_count": 76,
   "metadata": {},
   "outputs": [],
   "source": [
    "#function for checking outliers in columns\n",
    "def detect_outliers_iqr(df, column):\n",
    "    \"\"\"\n",
    "    Detects outliers in a specified column of a DataFrame using the IQR method.\n",
    "    \n",
    "    Parameters:\n",
    "    df (pd.DataFrame): The DataFrame to check for outliers.\n",
    "    column (str): The name of the column to check for outliers.\n",
    "    \n",
    "    Returns:\n",
    "    pd.DataFrame: A DataFrame containing only the outliers.\n",
    "    \"\"\"\n",
    "    Q1 = df[column].quantile(0.25)\n",
    "    Q3 = df[column].quantile(0.75)\n",
    "    IQR = Q3 - Q1\n",
    "    \n",
    "    lower_bound = Q1 - 1.5 * IQR\n",
    "    upper_bound = Q3 + 1.5 * IQR\n",
    "    \n",
    "    # Outliers are the values outside the IQR range\n",
    "    outliers = df[(df[column] < lower_bound) | (df[column] > upper_bound)]\n",
    "    \n",
    "    print(f\"Lower Bound: {lower_bound}, Upper Bound: {upper_bound}\")\n",
    "    return outliers\n"
   ]
  },
  {
   "cell_type": "code",
   "execution_count": 77,
   "metadata": {},
   "outputs": [
    {
     "name": "stdout",
     "output_type": "stream",
     "text": [
      "Lower Bound: 12.0, Upper Bound: 28.0\n"
     ]
    },
    {
     "data": {
      "text/html": [
       "<div>\n",
       "<style scoped>\n",
       "    .dataframe tbody tr th:only-of-type {\n",
       "        vertical-align: middle;\n",
       "    }\n",
       "\n",
       "    .dataframe tbody tr th {\n",
       "        vertical-align: top;\n",
       "    }\n",
       "\n",
       "    .dataframe thead th {\n",
       "        text-align: right;\n",
       "    }\n",
       "</style>\n",
       "<table border=\"1\" class=\"dataframe\">\n",
       "  <thead>\n",
       "    <tr style=\"text-align: right;\">\n",
       "      <th></th>\n",
       "      <th>year</th>\n",
       "      <th>women's age</th>\n",
       "      <th>men's age</th>\n",
       "      <th>family type</th>\n",
       "      <th>area</th>\n",
       "      <th>girl's job</th>\n",
       "      <th>boy's job</th>\n",
       "      <th>marry condition</th>\n",
       "      <th>women married/unmarried</th>\n",
       "      <th>mohor</th>\n",
       "      <th>dowry</th>\n",
       "    </tr>\n",
       "  </thead>\n",
       "  <tbody>\n",
       "  </tbody>\n",
       "</table>\n",
       "</div>"
      ],
      "text/plain": [
       "Empty DataFrame\n",
       "Columns: [year, women's age, men's age, family type, area, girl's job, boy's job, marry condition, women married/unmarried, mohor, dowry]\n",
       "Index: []"
      ]
     },
     "execution_count": 77,
     "metadata": {},
     "output_type": "execute_result"
    }
   ],
   "source": [
    "detect_outliers_iqr(data,\"women's age\")"
   ]
  },
  {
   "cell_type": "code",
   "execution_count": 78,
   "metadata": {},
   "outputs": [
    {
     "name": "stdout",
     "output_type": "stream",
     "text": [
      "Lower Bound: 18.5, Upper Bound: 46.5\n"
     ]
    },
    {
     "data": {
      "text/html": [
       "<div>\n",
       "<style scoped>\n",
       "    .dataframe tbody tr th:only-of-type {\n",
       "        vertical-align: middle;\n",
       "    }\n",
       "\n",
       "    .dataframe tbody tr th {\n",
       "        vertical-align: top;\n",
       "    }\n",
       "\n",
       "    .dataframe thead th {\n",
       "        text-align: right;\n",
       "    }\n",
       "</style>\n",
       "<table border=\"1\" class=\"dataframe\">\n",
       "  <thead>\n",
       "    <tr style=\"text-align: right;\">\n",
       "      <th></th>\n",
       "      <th>year</th>\n",
       "      <th>women's age</th>\n",
       "      <th>men's age</th>\n",
       "      <th>family type</th>\n",
       "      <th>area</th>\n",
       "      <th>girl's job</th>\n",
       "      <th>boy's job</th>\n",
       "      <th>marry condition</th>\n",
       "      <th>women married/unmarried</th>\n",
       "      <th>mohor</th>\n",
       "      <th>dowry</th>\n",
       "    </tr>\n",
       "  </thead>\n",
       "  <tbody>\n",
       "  </tbody>\n",
       "</table>\n",
       "</div>"
      ],
      "text/plain": [
       "Empty DataFrame\n",
       "Columns: [year, women's age, men's age, family type, area, girl's job, boy's job, marry condition, women married/unmarried, mohor, dowry]\n",
       "Index: []"
      ]
     },
     "execution_count": 78,
     "metadata": {},
     "output_type": "execute_result"
    }
   ],
   "source": [
    "detect_outliers_iqr(data,\"men's age\")"
   ]
  },
  {
   "cell_type": "code",
   "execution_count": 84,
   "metadata": {},
   "outputs": [
    {
     "name": "stdout",
     "output_type": "stream",
     "text": [
      "Lower Bound: -247500.0, Upper Bound: 1028500.0\n"
     ]
    },
    {
     "data": {
      "text/plain": [
       "(231, 12)"
      ]
     },
     "execution_count": 84,
     "metadata": {},
     "output_type": "execute_result"
    }
   ],
   "source": [
    "detect_outliers_iqr(data,\"mohor\").shape"
   ]
  },
  {
   "cell_type": "code",
   "execution_count": 85,
   "metadata": {},
   "outputs": [],
   "source": [
    "def detect_outliers_zscore(df, column, threshold=3):\n",
    "    \"\"\"\n",
    "    Detects outliers in a specified column of a DataFrame using the Z-score method.\n",
    "    \n",
    "    Parameters:\n",
    "    df (pd.DataFrame): The DataFrame to check for outliers.\n",
    "    column (str): The name of the column to check for outliers.\n",
    "    threshold (float): The Z-score threshold to consider an outlier (default is 3).\n",
    "    \n",
    "    Returns:\n",
    "    pd.DataFrame: A DataFrame containing only the outliers.\n",
    "    \"\"\"\n",
    "    mean_col = df[column].mean()\n",
    "    std_col = df[column].std()\n",
    "    \n",
    "    # Calculate the Z-scores\n",
    "    df['Z_score'] = (df[column] - mean_col) / std_col\n",
    "    \n",
    "    # Outliers are values with Z-scores greater than the threshold (absolute value)\n",
    "    outliers = df[np.abs(df['Z_score']) > threshold]\n",
    "    \n",
    "    return outliers\n"
   ]
  },
  {
   "cell_type": "code",
   "execution_count": 89,
   "metadata": {},
   "outputs": [
    {
     "data": {
      "text/html": [
       "<div>\n",
       "<style scoped>\n",
       "    .dataframe tbody tr th:only-of-type {\n",
       "        vertical-align: middle;\n",
       "    }\n",
       "\n",
       "    .dataframe tbody tr th {\n",
       "        vertical-align: top;\n",
       "    }\n",
       "\n",
       "    .dataframe thead th {\n",
       "        text-align: right;\n",
       "    }\n",
       "</style>\n",
       "<table border=\"1\" class=\"dataframe\">\n",
       "  <thead>\n",
       "    <tr style=\"text-align: right;\">\n",
       "      <th></th>\n",
       "      <th>year</th>\n",
       "      <th>women's age</th>\n",
       "      <th>men's age</th>\n",
       "      <th>family type</th>\n",
       "      <th>area</th>\n",
       "      <th>girl's job</th>\n",
       "      <th>boy's job</th>\n",
       "      <th>marry condition</th>\n",
       "      <th>women married/unmarried</th>\n",
       "      <th>mohor</th>\n",
       "      <th>dowry</th>\n",
       "      <th>Z_score</th>\n",
       "    </tr>\n",
       "  </thead>\n",
       "  <tbody>\n",
       "  </tbody>\n",
       "</table>\n",
       "</div>"
      ],
      "text/plain": [
       "Empty DataFrame\n",
       "Columns: [year, women's age, men's age, family type, area, girl's job, boy's job, marry condition, women married/unmarried, mohor, dowry, Z_score]\n",
       "Index: []"
      ]
     },
     "execution_count": 89,
     "metadata": {},
     "output_type": "execute_result"
    }
   ],
   "source": [
    "detect_outliers_zscore(data,\"women's age\")"
   ]
  },
  {
   "cell_type": "code",
   "execution_count": 90,
   "metadata": {},
   "outputs": [
    {
     "data": {
      "text/html": [
       "<div>\n",
       "<style scoped>\n",
       "    .dataframe tbody tr th:only-of-type {\n",
       "        vertical-align: middle;\n",
       "    }\n",
       "\n",
       "    .dataframe tbody tr th {\n",
       "        vertical-align: top;\n",
       "    }\n",
       "\n",
       "    .dataframe thead th {\n",
       "        text-align: right;\n",
       "    }\n",
       "</style>\n",
       "<table border=\"1\" class=\"dataframe\">\n",
       "  <thead>\n",
       "    <tr style=\"text-align: right;\">\n",
       "      <th></th>\n",
       "      <th>year</th>\n",
       "      <th>women's age</th>\n",
       "      <th>men's age</th>\n",
       "      <th>family type</th>\n",
       "      <th>area</th>\n",
       "      <th>girl's job</th>\n",
       "      <th>boy's job</th>\n",
       "      <th>marry condition</th>\n",
       "      <th>women married/unmarried</th>\n",
       "      <th>mohor</th>\n",
       "      <th>dowry</th>\n",
       "      <th>Z_score</th>\n",
       "    </tr>\n",
       "  </thead>\n",
       "  <tbody>\n",
       "  </tbody>\n",
       "</table>\n",
       "</div>"
      ],
      "text/plain": [
       "Empty DataFrame\n",
       "Columns: [year, women's age, men's age, family type, area, girl's job, boy's job, marry condition, women married/unmarried, mohor, dowry, Z_score]\n",
       "Index: []"
      ]
     },
     "execution_count": 90,
     "metadata": {},
     "output_type": "execute_result"
    }
   ],
   "source": [
    "detect_outliers_zscore(data,\"men's age\")"
   ]
  },
  {
   "cell_type": "code",
   "execution_count": 91,
   "metadata": {},
   "outputs": [
    {
     "data": {
      "text/plain": [
       "(33, 12)"
      ]
     },
     "execution_count": 91,
     "metadata": {},
     "output_type": "execute_result"
    }
   ],
   "source": [
    "detect_outliers_zscore(data,\"mohor\").shape"
   ]
  },
  {
   "cell_type": "markdown",
   "metadata": {},
   "source": [
    "**The Interquartile Range (IQR) method is often better than the Z-score method for identifying outliers in skewed or non-normal data**\n",
    "### **IQR method-**\n",
    "**This method is more robust and less affected by extreme values, making it a better choice for identifying outliers in skewed distributions. It's also simple to calculate and the data spread is easy to interpret. However, it can only handle univariate data, and it can remove valid data points if the data is skewed or has heavy tails.** \n",
    "### **Z-score method-**\n",
    "**This method is useful when data closely follow a normal distribution. It can be used to identify outliers, understand where an individual score fits into a distribution, and normalize scores for statistical decision-making. However, it can be sensitive to skewness and misidentify points as outliers. It can also have drawbacks when used for predictive modeling, such as losing the original meaning and scale of the data.**\n",
    "**A Z-score is a standard score, which is the number of standard deviations by which a raw score is above or below the mean.**"
   ]
  },
  {
   "cell_type": "code",
   "execution_count": 95,
   "metadata": {},
   "outputs": [],
   "source": [
    "def check_for_skew(data,column):\n",
    "    skew_score = data[column].skew()\n",
    "    if skew_score > 0:\n",
    "        print(\"The distribution has a longer or fatter tail on the right side.(Positive skew)\")\n",
    "    else:\n",
    "        print(\"The distribution has a longer or fatter tail on the left side.(Negative skew)\")"
   ]
  },
  {
   "cell_type": "code",
   "execution_count": 96,
   "metadata": {},
   "outputs": [
    {
     "name": "stdout",
     "output_type": "stream",
     "text": [
      "The distribution has a longer or fatter tail on the right side.(Positive skew)\n"
     ]
    }
   ],
   "source": [
    "check_for_skew(data,\"mohor\")"
   ]
  },
  {
   "cell_type": "markdown",
   "metadata": {},
   "source": [
    "**In the case of a positively skewed distribution, IQR tends to perform better.**"
   ]
  },
  {
   "cell_type": "code",
   "execution_count": null,
   "metadata": {},
   "outputs": [],
   "source": []
  }
 ],
 "metadata": {
  "kernelspec": {
   "display_name": ".venv",
   "language": "python",
   "name": "python3"
  },
  "language_info": {
   "codemirror_mode": {
    "name": "ipython",
    "version": 3
   },
   "file_extension": ".py",
   "mimetype": "text/x-python",
   "name": "python",
   "nbconvert_exporter": "python",
   "pygments_lexer": "ipython3",
   "version": "3.12.6"
  }
 },
 "nbformat": 4,
 "nbformat_minor": 2
}
